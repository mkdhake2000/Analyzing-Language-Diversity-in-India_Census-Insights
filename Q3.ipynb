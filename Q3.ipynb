{
 "cells": [
  {
   "cell_type": "markdown",
   "source": [
    "## Importing 'DDW-C18-0000.XLSX'(Language Data)  and 'DDW_PCA0000_2011_Indiastatedist.xlsx'(Census Data) file using pandas"
   ],
   "metadata": {}
  },
  {
   "cell_type": "code",
   "execution_count": 1,
   "source": [
    "import pandas as pd\r\n",
    "data = pd.read_excel('INPUT/DDW-C18-0000.XLSX')\r\n",
    "census_data = pd.read_excel('INPUT/DDW_PCA0000_2011_Indiastatedist.xlsx')"
   ],
   "outputs": [],
   "metadata": {}
  },
  {
   "cell_type": "markdown",
   "source": [
    "### Getting the index of rows containing state data for getting the total population of each state from census data"
   ],
   "metadata": {}
  },
  {
   "cell_type": "code",
   "execution_count": 2,
   "source": [
    "index = []\r\n",
    "for i in range(len(census_data)):\r\n",
    "    if census_data['Level'][i] == 'STATE':\r\n",
    "        index.append(i)\r\n",
    "for i in range(0,len(index),3):\r\n",
    "    index[int(i/3)] = index[i]\r\n",
    "index = index[:35]\r\n",
    "index.insert(0,0)\r\n",
    "index"
   ],
   "outputs": [
    {
     "output_type": "execute_result",
     "data": {
      "text/plain": [
       "[0,\n",
       " 3,\n",
       " 72,\n",
       " 111,\n",
       " 174,\n",
       " 180,\n",
       " 222,\n",
       " 288,\n",
       " 318,\n",
       " 420,\n",
       " 636,\n",
       " 753,\n",
       " 768,\n",
       " 819,\n",
       " 855,\n",
       " 885,\n",
       " 912,\n",
       " 927,\n",
       " 951,\n",
       " 1035,\n",
       " 1095,\n",
       " 1170,\n",
       " 1263,\n",
       " 1320,\n",
       " 1473,\n",
       " 1554,\n",
       " 1563,\n",
       " 1569,\n",
       " 1677,\n",
       " 1749,\n",
       " 1842,\n",
       " 1851,\n",
       " 1857,\n",
       " 1902,\n",
       " 2001,\n",
       " 2016]"
      ]
     },
     "metadata": {},
     "execution_count": 2
    }
   ],
   "metadata": {}
  },
  {
   "cell_type": "markdown",
   "source": [
    "### Getting the names of states from census data and language data and checking if they both have the same states with same sequence"
   ],
   "metadata": {}
  },
  {
   "cell_type": "code",
   "execution_count": 3,
   "source": [
    "state_census = [0]*(len(index))\r\n",
    "for i in range(len(index)):\r\n",
    "    state_census[i] = census_data['Name'][index[i]]\r\n",
    "state_census[0] = 'INDIA'\r\n",
    "state_lang = data['Unnamed: 2'][6:].unique()\r\n",
    "yes = 0\r\n",
    "for i in range(len(state_census)):\r\n",
    "    if state_census[i] == state_lang[i]:\r\n",
    "        yes = yes+1\r\n",
    "print(yes)"
   ],
   "outputs": [
    {
     "output_type": "stream",
     "name": "stdout",
     "text": [
      "36\n"
     ]
    }
   ],
   "metadata": {}
  },
  {
   "cell_type": "markdown",
   "source": [
    "### Since the states list from both census and language data are same we can directly corresponding the states list of both data\r\n",
    "### Getting the total Urban and Rural population for each state from census data"
   ],
   "metadata": {}
  },
  {
   "cell_type": "code",
   "execution_count": 4,
   "source": [
    "state_pop_urban = [0]*len(index)\r\n",
    "state_pop_rural = [0]*len(index)\r\n",
    "for i in range(len(index)):\r\n",
    "    state_pop_urban[i] = census_data['TOT_P'][index[i]+2]\r\n",
    "    state_pop_rural[i] = census_data['TOT_P'][index[i]+1]"
   ],
   "outputs": [],
   "metadata": {}
  },
  {
   "cell_type": "markdown",
   "source": [
    "### For Urban and Rural population seperately:\r\n",
    "### Getting the 'Number speaking second language' and 'Number speaking third language' from language data\r\n",
    "### People speaking 3 or more languages is given directly in the data"
   ],
   "metadata": {}
  },
  {
   "cell_type": "code",
   "execution_count": 5,
   "source": [
    "state_2lang_urban = [0] * len(index)\r\n",
    "state_2lang_rural = [0] * len(index)\r\n",
    "state_threelang_urban = [0] * len(index)\r\n",
    "state_threelang_rural = [0] * len(index)\r\n",
    "for i in range(len(index)):\r\n",
    "    state_2lang_urban[i] = data['Unnamed: 5'][list(data['Unnamed: 2']).index(state_census[i]) + 20]\r\n",
    "    state_2lang_rural[i] = data['Unnamed: 5'][list(data['Unnamed: 2']).index(state_census[i]) + 10]\r\n",
    "    state_threelang_urban[i] = data['Unnamed: 8'][list(data['Unnamed: 2']).index(state_census[i]) + 20]\r\n",
    "    state_threelang_rural[i] = data['Unnamed: 8'][list(data['Unnamed: 2']).index(state_census[i]) + 10]"
   ],
   "outputs": [],
   "metadata": {}
  },
  {
   "cell_type": "markdown",
   "source": [
    "### For Urban and Rural Population seperately:\r\n",
    "### Getting the counts of people speaking only one language, exactly two languages and three languages or more for each state.\r\n",
    "### People speaking only 1 language = Total Population - People speaking 2 or more language\r\n",
    "### People speaking exactly 2 languages = People speaking 2 or more language - People speaking 3 or more language"
   ],
   "metadata": {}
  },
  {
   "cell_type": "code",
   "execution_count": 6,
   "source": [
    "state_onelang_urban = [0] * len(index)\r\n",
    "state_onelang_rural = [0] * len(index)\r\n",
    "state_twolang_urban = [0] * len(index)\r\n",
    "state_twolang_rural = [0] * len(index)\r\n",
    "for i in range(len(index)):\r\n",
    "    state_onelang_urban[i] = state_pop_urban[i] - state_2lang_urban[i]\r\n",
    "    state_onelang_rural[i] = state_pop_rural[i] - state_2lang_rural[i]\r\n",
    "    state_twolang_urban[i] = state_2lang_urban[i] - state_threelang_urban[i]\r\n",
    "    state_twolang_rural[i] = state_2lang_rural[i] - state_threelang_rural[i]"
   ],
   "outputs": [],
   "metadata": {}
  },
  {
   "cell_type": "markdown",
   "source": [
    "### Getting the percentage of Urban and Rural population speaking only one language, exactly two languages and three languages"
   ],
   "metadata": {}
  },
  {
   "cell_type": "code",
   "execution_count": 7,
   "source": [
    "state_onelang_percent_urban = [0]*len(index)\r\n",
    "state_onelang_percent_rural = [0]*len(index)\r\n",
    "state_twolang_percent_urban = [0]*len(index)\r\n",
    "state_twolang_percent_rural = [0]*len(index)\r\n",
    "state_threelang_percent_urban = [0]*len(index)\r\n",
    "state_threelang_percent_rural = [0]*len(index)\r\n",
    "for i in range(len(index)):\r\n",
    "    state_onelang_percent_urban[i] = (state_onelang_urban[i] * 100)/state_pop_urban[i]\r\n",
    "    state_onelang_percent_rural[i] = (state_onelang_rural[i] * 100)/state_pop_rural[i]\r\n",
    "    state_twolang_percent_urban[i] = (state_twolang_urban[i] * 100)/state_pop_urban[i]\r\n",
    "    state_twolang_percent_rural[i] = (state_twolang_rural[i] * 100)/state_pop_rural[i]\r\n",
    "    state_threelang_percent_urban[i] = (state_threelang_urban[i] * 100)/state_pop_urban[i]\r\n",
    "    state_threelang_percent_rural[i] = (state_threelang_rural[i] * 100)/state_pop_rural[i]"
   ],
   "outputs": [],
   "metadata": {}
  },
  {
   "cell_type": "markdown",
   "source": [
    "### Getting the codes of the states"
   ],
   "metadata": {}
  },
  {
   "cell_type": "code",
   "execution_count": null,
   "source": [
    "state_code = [0] * len(index)\r\n",
    "for i in range(len(index)):\r\n",
    "    state_code[i] = data['C-18 POPULATION BY BILINGUALISM, TRILINGUALISM, AGE AND SEX'][list(data['Unnamed: 2']).index(state_census[i])]"
   ],
   "outputs": [],
   "metadata": {}
  },
  {
   "cell_type": "markdown",
   "source": [
    "### Importing ttest_1samp from scipy.stats module to do statistical test and get P-VALUE"
   ],
   "metadata": {}
  },
  {
   "cell_type": "code",
   "execution_count": null,
   "source": [
    "from scipy.stats import ttest_1samp"
   ],
   "outputs": [],
   "metadata": {}
  },
  {
   "cell_type": "markdown",
   "source": [
    "### Getting P-VALUE"
   ],
   "metadata": {}
  },
  {
   "cell_type": "code",
   "execution_count": null,
   "source": [
    "ratio_pop = [0]*len(state_pop_urban)\r\n",
    "ratio_1 = [0]*len(state_pop_urban)\r\n",
    "ratio_2 = [0]*len(state_pop_urban)\r\n",
    "ratio_3 = [0]*len(state_pop_urban)\r\n",
    "p_val = [0]*len(state_pop_urban)\r\n",
    "for i in range(len(state_pop_urban)):\r\n",
    "    ratio_pop[i] = state_pop_urban[i] / state_pop_rural[i]\r\n",
    "    ratio_1[i] = state_onelang_urban[i] / state_onelang_rural[i]\r\n",
    "    ratio_2[i] = state_twolang_urban[i] / state_twolang_rural[i]\r\n",
    "    ratio_3[i] = state_threelang_urban[i] / state_threelang_rural[i]\r\n",
    "    p_val[i] = ttest_1samp([ratio_1[i],ratio_2[i],ratio_3[i]], ratio_pop[i], axis = 0)[1]"
   ],
   "outputs": [],
   "metadata": {}
  },
  {
   "cell_type": "markdown",
   "source": [
    "### Exporting state codes, male percentage, female percentage and p value to dataframes for one language, two languages and three languages"
   ],
   "metadata": {}
  },
  {
   "cell_type": "code",
   "execution_count": null,
   "source": [
    "data_final = {'state-code':state_code,'urban-percentage':state_onelang_percent_urban,'rural-percentage':state_onelang_percent_rural,'p-value':p_val}\r\n",
    "geography_india_a = pd.DataFrame(data_final)\r\n",
    "data_final = {'state-code':state_code,'urban-percentage':state_twolang_percent_urban,'rural-percentage':state_twolang_percent_rural,'p-value':p_val}\r\n",
    "geography_india_b = pd.DataFrame(data_final)\r\n",
    "data_final = {'state-code':state_code,'urban-percentage':state_threelang_percent_urban,'rural-percentage':state_threelang_percent_rural,'p-value':p_val}\r\n",
    "geography_india_c = pd.DataFrame(data_final)"
   ],
   "outputs": [],
   "metadata": {}
  },
  {
   "cell_type": "markdown",
   "source": [
    "### Exporting dataframes to 'geography-india-{part}.csv'"
   ],
   "metadata": {}
  },
  {
   "cell_type": "code",
   "execution_count": null,
   "source": [
    "geography_india_a.to_csv('OUTPUT/geography-india-a.csv',index=False)\r\n",
    "geography_india_b.to_csv('OUTPUT/geography-india-b.csv',index=False)\r\n",
    "geography_india_c.to_csv('OUTPUT/geography-india-c.csv',index=False)"
   ],
   "outputs": [],
   "metadata": {}
  }
 ],
 "metadata": {
  "orig_nbformat": 4,
  "language_info": {
   "name": "python",
   "version": "3.7.3",
   "mimetype": "text/x-python",
   "codemirror_mode": {
    "name": "ipython",
    "version": 3
   },
   "pygments_lexer": "ipython3",
   "nbconvert_exporter": "python",
   "file_extension": ".py"
  },
  "kernelspec": {
   "name": "python3",
   "display_name": "Python 3.7.3 64-bit"
  },
  "interpreter": {
   "hash": "c80d797ad0c0f99ceecb07d53ac314bc1d62fa8729ade7f8a491ed15ddf8184a"
  }
 },
 "nbformat": 4,
 "nbformat_minor": 2
}