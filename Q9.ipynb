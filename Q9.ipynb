{
 "cells": [
  {
   "cell_type": "markdown",
   "source": [
    "## Importing 'DDW-C19-0000.XLSX'(Language Data)  and 'DDW-0000C-08.xlsx'(Census Data according to age) file using pandas"
   ],
   "metadata": {}
  },
  {
   "cell_type": "code",
   "execution_count": 20,
   "source": [
    "import pandas as pd\r\n",
    "data = pd.read_excel('INPUT/DDW-C19-0000.XLSX')\r\n",
    "census_data = pd.read_excel('INPUT/DDW-0000C-08.xlsx')"
   ],
   "outputs": [],
   "metadata": {}
  },
  {
   "cell_type": "markdown",
   "source": [
    "### Getting the unique list of states/UTs from the census data to check whether they are similar to the ones obtained from the language data"
   ],
   "metadata": {}
  },
  {
   "cell_type": "code",
   "execution_count": 21,
   "source": [
    "name_lst = list(census_data['Unnamed: 3'][6:].unique())\r\n",
    "name_lst1 = name_lst[:]\r\n",
    "for i in range(len(name_lst)):\r\n",
    "    if name_lst[i] != \"INDIA\":\r\n",
    "        name_lst[i] = name_lst[i].split(\"- \")[1]"
   ],
   "outputs": [],
   "metadata": {}
  },
  {
   "cell_type": "markdown",
   "source": [
    "### Checking if both have the same states with same sequence"
   ],
   "metadata": {}
  },
  {
   "cell_type": "code",
   "execution_count": 22,
   "source": [
    "state_lang = list(data['Unnamed: 2'][5:869].unique())\r\n",
    "yes = 0\r\n",
    "for i in range(len(state_lang)):\r\n",
    "    if name_lst[i] == state_lang[i]:\r\n",
    "        yes = yes+1\r\n",
    "print(yes)"
   ],
   "outputs": [
    {
     "output_type": "stream",
     "name": "stdout",
     "text": [
      "36\n"
     ]
    }
   ],
   "metadata": {}
  },
  {
   "cell_type": "markdown",
   "source": [
    "### Getting the names of the literacy groups from the language data according to literacy"
   ],
   "metadata": {}
  },
  {
   "cell_type": "code",
   "execution_count": 23,
   "source": [
    "lit_grp = list(data['Unnamed: 4'][5:869].unique())\r\n",
    "lit_grp = lit_grp[1:]\r\n",
    "lit_grp.remove('Literate')\r\n",
    "lit_grp"
   ],
   "outputs": [
    {
     "output_type": "execute_result",
     "data": {
      "text/plain": [
       "['Illiterate',\n",
       " 'Literate but below primary',\n",
       " 'Primary but below middle',\n",
       " 'Middle but below matric/secondary',\n",
       " 'Matric/Secondary but below graduate',\n",
       " 'Graduate and above']"
      ]
     },
     "metadata": {},
     "execution_count": 23
    }
   ],
   "metadata": {}
  },
  {
   "cell_type": "markdown",
   "source": [
    "### Getting the unique names of literacy groups from the census data\r\n",
    "### We only need groups from 'Below' which indicates 'Literate but below primary' to 'Graduate & above'"
   ],
   "metadata": {}
  },
  {
   "cell_type": "code",
   "execution_count": 24,
   "source": [
    "lit_grp_cen = list(census_data.iloc[1].unique())\r\n",
    "lit_grp_cen = lit_grp_cen[5:13]\r\n",
    "lit_grp_cen"
   ],
   "outputs": [
    {
     "output_type": "execute_result",
     "data": {
      "text/plain": [
       "['Below',\n",
       " 'Primary',\n",
       " 'Middle',\n",
       " 'Matric/Secondary',\n",
       " 'Higher secondary/Intermediate',\n",
       " 'Non-technical diploma or',\n",
       " 'Technical diploma or certificate',\n",
       " 'Graduate & above']"
      ]
     },
     "metadata": {},
     "execution_count": 24
    }
   ],
   "metadata": {}
  },
  {
   "cell_type": "markdown",
   "source": [
    "### Getting the column names of the columns consisting the values for the literacy groups found above"
   ],
   "metadata": {}
  },
  {
   "cell_type": "code",
   "execution_count": null,
   "source": [
    "lit_grp_cen_ind = []\r\n",
    "for i in range(len(lit_grp_cen)):\r\n",
    "    lit_grp_cen_ind.append(list(census_data.columns[\r\n",
    "    (census_data == lit_grp_cen[i])\r\n",
    "    .any(axis=0)\r\n",
    "    ])[0])"
   ],
   "outputs": [],
   "metadata": {}
  },
  {
   "cell_type": "markdown",
   "source": [
    "### Adding column name of 'Illiterate' to the list"
   ],
   "metadata": {}
  },
  {
   "cell_type": "code",
   "execution_count": null,
   "source": [
    "lit_grp_cen_ind.insert(0,'Unnamed: 9')"
   ],
   "outputs": [],
   "metadata": {}
  },
  {
   "cell_type": "markdown",
   "source": [
    "### Getting the column names of the columns consisting the values for the literacy groups for males and females"
   ],
   "metadata": {}
  },
  {
   "cell_type": "code",
   "execution_count": null,
   "source": [
    "male_lit_grp_cen_ind = [0]* len(lit_grp_cen_ind)\r\n",
    "female_lit_grp_cen_ind = [0]* len(lit_grp_cen_ind)\r\n",
    "for i in range(len(lit_grp_cen_ind)):\r\n",
    "    male_lit_grp_cen_ind[i] = lit_grp_cen_ind[i].split(\" \")[0] + \" \" +str(int(lit_grp_cen_ind[i].split(\" \")[1]) + 1)\r\n",
    "    female_lit_grp_cen_ind[i] = lit_grp_cen_ind[i].split(\" \")[0] + \" \" + str(int(lit_grp_cen_ind[i].split(\" \")[1]) + 2)"
   ],
   "outputs": [],
   "metadata": {}
  },
  {
   "cell_type": "markdown",
   "source": [
    "### Getting the total population of males for each state/UT for each literacy group in a list of lists"
   ],
   "metadata": {}
  },
  {
   "cell_type": "code",
   "execution_count": null,
   "source": [
    "male_lit_grp_tot_cen = [[0]*len(lit_grp)]*len(name_lst1)\r\n",
    "for i in range(len(name_lst)):\r\n",
    "    temp = [0] * len(lit_grp)\r\n",
    "    for j in range(len(lit_grp)):\r\n",
    "        if j in range(0,4):\r\n",
    "            temp[j] = census_data[male_lit_grp_cen_ind[j]][(list(census_data['Unnamed: 3']).index(name_lst1[i]))]\r\n",
    "        elif j == 4:\r\n",
    "            temp[j] = (census_data[male_lit_grp_cen_ind[j]][(list(census_data['Unnamed: 3']).index(name_lst1[i]))] + \r\n",
    "            census_data[male_lit_grp_cen_ind[j+1]][(list(census_data['Unnamed: 3']).index(name_lst1[i]))] + \r\n",
    "            census_data[male_lit_grp_cen_ind[j+2]][(list(census_data['Unnamed: 3']).index(name_lst1[i]))] + \r\n",
    "            census_data[male_lit_grp_cen_ind[j+3]][(list(census_data['Unnamed: 3']).index(name_lst1[i]))])\r\n",
    "        else:\r\n",
    "            temp[j] = census_data[male_lit_grp_cen_ind[j+3]][(list(census_data['Unnamed: 3']).index(name_lst1[i]))]\r\n",
    "    male_lit_grp_tot_cen[i] = temp"
   ],
   "outputs": [],
   "metadata": {}
  },
  {
   "cell_type": "markdown",
   "source": [
    "### Getting the total population of females for each state/UT for each literacy group in a list of lists"
   ],
   "metadata": {}
  },
  {
   "cell_type": "code",
   "execution_count": null,
   "source": [
    "female_lit_grp_tot_cen = [[0]*len(lit_grp)]*len(name_lst1)\r\n",
    "for i in range(len(name_lst)):\r\n",
    "    temp = [0] * len(lit_grp)\r\n",
    "    for j in range(len(lit_grp)):\r\n",
    "        if j in range(0,4):\r\n",
    "            temp[j] = census_data[female_lit_grp_cen_ind[j]][(list(census_data['Unnamed: 3']).index(name_lst1[i]))]\r\n",
    "        elif j == 4:\r\n",
    "            temp[j] = (census_data[female_lit_grp_cen_ind[j]][(list(census_data['Unnamed: 3']).index(name_lst1[i]))] + \r\n",
    "            census_data[female_lit_grp_cen_ind[j+1]][(list(census_data['Unnamed: 3']).index(name_lst1[i]))] + \r\n",
    "            census_data[female_lit_grp_cen_ind[j+2]][(list(census_data['Unnamed: 3']).index(name_lst1[i]))] + \r\n",
    "            census_data[female_lit_grp_cen_ind[j+3]][(list(census_data['Unnamed: 3']).index(name_lst1[i]))])\r\n",
    "        else:\r\n",
    "            temp[j] = census_data[female_lit_grp_cen_ind[j+3]][(list(census_data['Unnamed: 3']).index(name_lst1[i]))]\r\n",
    "    female_lit_grp_tot_cen[i] = temp"
   ],
   "outputs": [],
   "metadata": {}
  },
  {
   "cell_type": "markdown",
   "source": [
    "### Getting the ratio of males speaking 3 languages or more, males speaking 2 languages, males speaking only one language with total male population(found above) for each state for each literacy group"
   ],
   "metadata": {}
  },
  {
   "cell_type": "code",
   "execution_count": null,
   "source": [
    "male_lit_grp_3lang_ratio = [[0]*len(lit_grp)]*len(state_lang)\r\n",
    "male_lit_grp_2lang_ratio = [[0]*len(lit_grp)]*len(state_lang)\r\n",
    "male_lit_grp_1lang_ratio = [[0]*len(lit_grp)]*len(state_lang) \r\n",
    "for i in range(len(state_lang)):\r\n",
    "    temp3 = [0]*len(lit_grp)\r\n",
    "    temp2 = [0]*len(lit_grp)\r\n",
    "    temp1 = [0]*len(lit_grp)\r\n",
    "    for j in range(len(lit_grp)):\r\n",
    "        if lit_grp[j] == 'Illiterate':\r\n",
    "            temp3[j] = (data['Unnamed: 9'][(list(data['Unnamed: 2']).index(state_lang[i]))+j+1])\r\n",
    "            temp2[j] = (data['Unnamed: 6'][(list(data['Unnamed: 2']).index(state_lang[i]))+j+1] - temp3[j])\r\n",
    "            temp1[j] = (male_lit_grp_tot_cen[i][j] - temp2[j] - temp3[j])\r\n",
    "            temp3[j] = temp3[j] / male_lit_grp_tot_cen[i][j]\r\n",
    "            temp2[j] = temp2[j] / male_lit_grp_tot_cen[i][j]\r\n",
    "            temp1[j] = temp1[j] / male_lit_grp_tot_cen[i][j]\r\n",
    "        else:\r\n",
    "            temp3[j] = (data['Unnamed: 9'][(list(data['Unnamed: 2']).index(state_lang[i]))+j+2])\r\n",
    "            temp2[j] = (data['Unnamed: 6'][(list(data['Unnamed: 2']).index(state_lang[i]))+j+2] - temp3[j])\r\n",
    "            temp1[j] = (male_lit_grp_tot_cen[i][j] - temp2[j] - temp3[j])\r\n",
    "            temp3[j] = temp3[j] / male_lit_grp_tot_cen[i][j]\r\n",
    "            temp2[j] = temp2[j] / male_lit_grp_tot_cen[i][j]\r\n",
    "            temp1[j] = temp1[j] / male_lit_grp_tot_cen[i][j]\r\n",
    "    male_lit_grp_3lang_ratio[i] = temp3\r\n",
    "    male_lit_grp_2lang_ratio[i] = temp2\r\n",
    "    male_lit_grp_1lang_ratio[i] = temp1"
   ],
   "outputs": [],
   "metadata": {}
  },
  {
   "cell_type": "markdown",
   "source": [
    "### Getting the ratio of females speaking 3 languages or more, females speaking 2 languages, females speaking only one language with total female population(found above) for each state for each literacy group"
   ],
   "metadata": {}
  },
  {
   "cell_type": "code",
   "execution_count": null,
   "source": [
    "female_lit_grp_3lang_ratio = [[0]*len(lit_grp)]*len(state_lang)\r\n",
    "female_lit_grp_2lang_ratio = [[0]*len(lit_grp)]*len(state_lang)\r\n",
    "female_lit_grp_1lang_ratio = [[0]*len(lit_grp)]*len(state_lang) \r\n",
    "for i in range(len(state_lang)):\r\n",
    "    temp3 = [0]*len(lit_grp)\r\n",
    "    temp2 = [0]*len(lit_grp)\r\n",
    "    temp1 = [0]*len(lit_grp)\r\n",
    "    for j in range(len(lit_grp)):\r\n",
    "        if lit_grp[j] == 'Illiterate':\r\n",
    "            temp3[j] = (data['Unnamed: 10'][(list(data['Unnamed: 2']).index(state_lang[i]))+j+1])\r\n",
    "            temp2[j] = (data['Unnamed: 7'][(list(data['Unnamed: 2']).index(state_lang[i]))+j+1] - temp3[j])\r\n",
    "            temp1[j] = (female_lit_grp_tot_cen[i][j] - temp2[j] - temp3[j])\r\n",
    "            temp3[j] = temp3[j] / female_lit_grp_tot_cen[i][j]\r\n",
    "            temp2[j] = temp2[j] / female_lit_grp_tot_cen[i][j]\r\n",
    "            temp1[j] = temp1[j] / female_lit_grp_tot_cen[i][j]\r\n",
    "        else:\r\n",
    "            temp3[j] = (data['Unnamed: 10'][(list(data['Unnamed: 2']).index(state_lang[i]))+j+2])\r\n",
    "            temp2[j] = (data['Unnamed: 7'][(list(data['Unnamed: 2']).index(state_lang[i]))+j+2] - temp3[j])\r\n",
    "            temp1[j] = (female_lit_grp_tot_cen[i][j] - temp2[j] - temp3[j])\r\n",
    "            temp3[j] = temp3[j] / female_lit_grp_tot_cen[i][j]\r\n",
    "            temp2[j] = temp2[j] / female_lit_grp_tot_cen[i][j]\r\n",
    "            temp1[j] = temp1[j] / female_lit_grp_tot_cen[i][j]\r\n",
    "    female_lit_grp_3lang_ratio[i] = temp3\r\n",
    "    female_lit_grp_2lang_ratio[i] = temp2\r\n",
    "    female_lit_grp_1lang_ratio[i] = temp1"
   ],
   "outputs": [],
   "metadata": {}
  },
  {
   "cell_type": "markdown",
   "source": [
    "### Getting the highest ratio from all the literacy groups for each state and the name of that group for males"
   ],
   "metadata": {}
  },
  {
   "cell_type": "code",
   "execution_count": null,
   "source": [
    "male_ratio_3max = [0] * len(state_lang)\r\n",
    "male_ratio_2max = [0] * len(state_lang)\r\n",
    "male_ratio_1max = [0] * len(state_lang)\r\n",
    "male_ratio_3max_litgrp = [0] * len(state_lang)\r\n",
    "male_ratio_2max_litgrp = [0] * len(state_lang)\r\n",
    "male_ratio_1max_litgrp = [0] * len(state_lang)\r\n",
    "for i in range(len(name_lst)):\r\n",
    "    male_ratio_3max[i] = max(male_lit_grp_3lang_ratio[i])\r\n",
    "    male_ratio_2max[i] = max(male_lit_grp_2lang_ratio[i])\r\n",
    "    male_ratio_1max[i] = max(male_lit_grp_1lang_ratio[i])\r\n",
    "    male_ratio_3max_litgrp[i] = lit_grp[male_lit_grp_3lang_ratio[i].index(male_ratio_3max[i])]\r\n",
    "    male_ratio_2max_litgrp[i] = lit_grp[male_lit_grp_2lang_ratio[i].index(male_ratio_2max[i])]\r\n",
    "    male_ratio_1max_litgrp[i] = lit_grp[male_lit_grp_1lang_ratio[i].index(male_ratio_1max[i])]"
   ],
   "outputs": [],
   "metadata": {}
  },
  {
   "cell_type": "markdown",
   "source": [
    "### Getting the highest ratio from all the literacy groups for each state and the name of that group for females"
   ],
   "metadata": {}
  },
  {
   "cell_type": "code",
   "execution_count": null,
   "source": [
    "female_ratio_3max = [0] * len(state_lang)\r\n",
    "female_ratio_2max = [0] * len(state_lang)\r\n",
    "female_ratio_1max = [0] * len(state_lang)\r\n",
    "female_ratio_3max_litgrp = [0] * len(state_lang)\r\n",
    "female_ratio_2max_litgrp = [0] * len(state_lang)\r\n",
    "female_ratio_1max_litgrp = [0] * len(state_lang)\r\n",
    "for i in range(len(name_lst)):\r\n",
    "    female_ratio_3max[i] = max(female_lit_grp_3lang_ratio[i])\r\n",
    "    female_ratio_2max[i] = max(female_lit_grp_2lang_ratio[i])\r\n",
    "    female_ratio_1max[i] = max(female_lit_grp_1lang_ratio[i])\r\n",
    "    female_ratio_3max_litgrp[i] = lit_grp[female_lit_grp_3lang_ratio[i].index(female_ratio_3max[i])]\r\n",
    "    female_ratio_2max_litgrp[i] = lit_grp[female_lit_grp_2lang_ratio[i].index(female_ratio_2max[i])]\r\n",
    "    female_ratio_1max_litgrp[i] = lit_grp[female_lit_grp_1lang_ratio[i].index(female_ratio_1max[i])]"
   ],
   "outputs": [],
   "metadata": {}
  },
  {
   "cell_type": "markdown",
   "source": [
    "### Getting the codes of the states"
   ],
   "metadata": {}
  },
  {
   "cell_type": "code",
   "execution_count": null,
   "source": [
    "state_code = [0] * len(name_lst)\r\n",
    "for i in range(len(name_lst)):\r\n",
    "    state_code[i] = data['C-19 POPULATION BY BILINGUALISM, TRILINGUALISM, EDUCATIONAL LEVEL AND SEX'][list(data['Unnamed: 2']).index(name_lst[i])]"
   ],
   "outputs": [],
   "metadata": {}
  },
  {
   "cell_type": "markdown",
   "source": [
    "### Exporting the state codes, state names, literacy groups, ratios into dataframes"
   ],
   "metadata": {}
  },
  {
   "cell_type": "code",
   "execution_count": null,
   "source": [
    "data_final = {'state-code': state_code, 'state/ut': state_lang,'literacy-group-males': male_ratio_3max_litgrp,'ratio-males': male_ratio_3max,'literacy-group-females': female_ratio_3max_litgrp,'ratio-females': male_ratio_3max}\r\n",
    "literacy_gender_3 = pd.DataFrame(data_final)\r\n",
    "data_final = {'state-code': state_code, 'state/ut': state_lang,'literacy-group-males': male_ratio_2max_litgrp,'ratio-males': male_ratio_2max,'literacy-group-females': female_ratio_2max_litgrp,'ratio-females': male_ratio_2max}\r\n",
    "literacy_gender_2 = pd.DataFrame(data_final)\r\n",
    "data_final = {'state-code': state_code, 'state/ut': state_lang,'literacy-group-males': male_ratio_1max_litgrp,'ratio-males': male_ratio_1max,'literacy-group-females': female_ratio_1max_litgrp,'ratio-females': male_ratio_1max}\r\n",
    "literacy_gender_1 = pd.DataFrame(data_final)"
   ],
   "outputs": [],
   "metadata": {}
  },
  {
   "cell_type": "markdown",
   "source": [
    "### Exporting dataframes into 'literacy-gender-{part}.csv'"
   ],
   "metadata": {}
  },
  {
   "cell_type": "code",
   "execution_count": null,
   "source": [
    "literacy_gender_3.to_csv('OUTPUT/literacy-gender-a.csv', index = False)\r\n",
    "literacy_gender_2.to_csv('OUTPUT/literacy-gender-b.csv', index = False)\r\n",
    "literacy_gender_1.to_csv('OUTPUT/literacy-gender-c.csv', index = False)"
   ],
   "outputs": [],
   "metadata": {}
  }
 ],
 "metadata": {
  "orig_nbformat": 4,
  "language_info": {
   "name": "python",
   "version": "3.7.3",
   "mimetype": "text/x-python",
   "codemirror_mode": {
    "name": "ipython",
    "version": 3
   },
   "pygments_lexer": "ipython3",
   "nbconvert_exporter": "python",
   "file_extension": ".py"
  },
  "kernelspec": {
   "name": "python3",
   "display_name": "Python 3.7.3 64-bit"
  },
  "interpreter": {
   "hash": "c80d797ad0c0f99ceecb07d53ac314bc1d62fa8729ade7f8a491ed15ddf8184a"
  }
 },
 "nbformat": 4,
 "nbformat_minor": 2
}