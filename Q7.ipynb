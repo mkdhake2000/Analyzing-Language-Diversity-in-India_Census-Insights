{
 "cells": [
  {
   "cell_type": "markdown",
   "source": [
    "## Importing 'DDW-C18-0000.xlsx'(Census Data for getting state codes) file using pandas"
   ],
   "metadata": {}
  },
  {
   "cell_type": "code",
   "execution_count": 1,
   "source": [
    "import pandas as pd\r\n",
    "pre_data = pd.read_excel('INPUT/DDW-C18-0000.xlsx')"
   ],
   "outputs": [],
   "metadata": {}
  },
  {
   "cell_type": "markdown",
   "source": [
    "## Importing 'DDW-C17-0000.XLSX'(Census Data for getting languages list) file using pandas"
   ],
   "metadata": {}
  },
  {
   "cell_type": "code",
   "execution_count": 2,
   "source": [
    "import numpy as np\r\n",
    "pre_lang_data = pd.read_excel('INPUT/DDW-C17-0000.XLSX')"
   ],
   "outputs": [],
   "metadata": {}
  },
  {
   "cell_type": "markdown",
   "source": [
    "### Getting the list of languages by taking unique from the language column and removing the nan values"
   ],
   "metadata": {}
  },
  {
   "cell_type": "code",
   "execution_count": 3,
   "source": [
    "lang_list = list(pre_lang_data['Unnamed: 3'][5:].unique())\r\n",
    "lang_list.remove(np.nan)"
   ],
   "outputs": [],
   "metadata": {}
  },
  {
   "cell_type": "markdown",
   "source": [
    "### Getting the list of state codes by taking unique names from the name column and removing 'INDIA' which is on first index"
   ],
   "metadata": {}
  },
  {
   "cell_type": "code",
   "execution_count": 4,
   "source": [
    "state_code_list = list(pre_data['C-18 POPULATION BY BILINGUALISM, TRILINGUALISM, AGE AND SEX'][5:].unique())\r\n",
    "state_code_list = state_code_list[1:]"
   ],
   "outputs": [],
   "metadata": {}
  },
  {
   "cell_type": "markdown",
   "source": [
    "### Getting the list of state names using the state codes"
   ],
   "metadata": {}
  },
  {
   "cell_type": "code",
   "execution_count": 5,
   "source": [
    "state_name_list = [0]*len(state_code_list)\r\n",
    "for i in range(len(state_code_list)):\r\n",
    "    state_name_list[i] = pre_data['Unnamed: 2'][list(pre_data['C-18 POPULATION BY BILINGUALISM, TRILINGUALISM, AGE AND SEX']).index(state_code_list[i])]"
   ],
   "outputs": [],
   "metadata": {}
  },
  {
   "cell_type": "markdown",
   "source": [
    "### Dividing the states into regions as mentioned"
   ],
   "metadata": {}
  },
  {
   "cell_type": "code",
   "execution_count": 6,
   "source": [
    "NORTH = ['JAMMU & KASHMIR','PUNJAB','HIMACHAL PRADESH','HARYANA','NCT OF DELHI','CHANDIGARH']\r\n",
    "WEST = ['RAJASTHAN','GUJARAT','MAHARASHTRA','GOA','DADRA & NAGAR HAVELI','DAMAN & DIU']\r\n",
    "CENTRAL = ['MADHYA PRADESH','UTTAR PRADESH','CHHATTISGARH']\r\n",
    "EAST = ['BIHAR','WEST BENGAL','ODISHA','JHARKHAND']\r\n",
    "SOUTH = ['KARNATAKA','ANDHRA PRADESH','TAMIL NADU','KERALA','LAKSHADWEEP','PUDUCHERRY']\r\n",
    "NORTH_EAST = ['ASSAM','SIKKIM','MEGHALAYA','TRIPURA','ARUNACHAL PRADESH','MANIPUR','NAGALAND','MIZORAM','ANDAMAN & NICOBAR ISLANDS']"
   ],
   "outputs": [],
   "metadata": {}
  },
  {
   "cell_type": "markdown",
   "source": [
    "# PART A: MOTHER TONGUE\r\n",
    "## For NORTH Region:\r\n",
    "### Getting the state data for each state and taking the sum of number of people speaking a language for all states in the region and storing them into a variable\r\n",
    "### Getting the top 3 spoken languages from this variable"
   ],
   "metadata": {}
  },
  {
   "cell_type": "code",
   "execution_count": 7,
   "source": [
    "NORTH_A_DATA = [0]*len(NORTH)\r\n",
    "NORTH_A_LANG = [0]*len(lang_list)\r\n",
    "for i in range(len(NORTH)):\r\n",
    "    NORTH_A_DATA[i] = pd.read_excel(\"INPUT/STATES/DDW-C17-\"+state_code_list[state_name_list.index(NORTH[i])]+\"00.XLSX\")\r\n",
    "    for j in range(len(lang_list)):\r\n",
    "        try:\r\n",
    "            NORTH_A_LANG[j] = NORTH_A_LANG[j] + NORTH_A_DATA[i]['Unnamed: 4'][list(NORTH_A_DATA[i]['Unnamed: 3']).index(lang_list[j])]\r\n",
    "        except:\r\n",
    "            pass\r\n",
    "NORTH_A_TOP3 = sorted(zip(NORTH_A_LANG, lang_list), reverse = True)[:3]"
   ],
   "outputs": [],
   "metadata": {}
  },
  {
   "cell_type": "markdown",
   "source": [
    "## For WEST Region:\r\n",
    "### Getting the state data for each state and taking the sum of number of people speaking a language for all states in the region and storing them into a variable\r\n",
    "### Getting the top 3 spoken languages from this variable"
   ],
   "metadata": {}
  },
  {
   "cell_type": "code",
   "execution_count": 8,
   "source": [
    "WEST_A_DATA = [0]*len(WEST)\r\n",
    "WEST_A_LANG = [0]*len(lang_list)\r\n",
    "for i in range(len(WEST)):\r\n",
    "    WEST_A_DATA[i] = pd.read_excel(\"INPUT/STATES/DDW-C17-\"+state_code_list[state_name_list.index(WEST[i])]+\"00.XLSX\")\r\n",
    "    for j in range(len(lang_list)):\r\n",
    "        try:\r\n",
    "            WEST_A_LANG[j] = WEST_A_LANG[j] + WEST_A_DATA[i]['Unnamed: 4'][list(WEST_A_DATA[i]['Unnamed: 3']).index(lang_list[j])]\r\n",
    "        except:\r\n",
    "            pass\r\n",
    "WEST_A_TOP3 = sorted(zip(WEST_A_LANG, lang_list), reverse = True)[:3]"
   ],
   "outputs": [],
   "metadata": {}
  },
  {
   "cell_type": "markdown",
   "source": [
    "## For CENTRAL Region:\r\n",
    "### Getting the state data for each state and taking the sum of number of people speaking a language for all states in the region and storing them into a variable\r\n",
    "### Getting the top 3 spoken languages from this variable"
   ],
   "metadata": {}
  },
  {
   "cell_type": "code",
   "execution_count": null,
   "source": [
    "CENTRAL_A_DATA = [0]*len(CENTRAL)\r\n",
    "CENTRAL_A_LANG = [0]*len(lang_list)\r\n",
    "for i in range(len(CENTRAL)):\r\n",
    "    CENTRAL_A_DATA[i] = pd.read_excel(\"INPUT/STATES/DDW-C17-\"+state_code_list[state_name_list.index(CENTRAL[i])]+\"00.XLSX\")\r\n",
    "    for j in range(len(lang_list)):\r\n",
    "        try:\r\n",
    "            CENTRAL_A_LANG[j] = CENTRAL_A_LANG[j] + CENTRAL_A_DATA[i]['Unnamed: 4'][list(CENTRAL_A_DATA[i]['Unnamed: 3']).index(lang_list[j])]\r\n",
    "        except:\r\n",
    "            pass\r\n",
    "CENTRAL_A_TOP3 = sorted(zip(CENTRAL_A_LANG, lang_list), reverse = True)[:3]"
   ],
   "outputs": [],
   "metadata": {}
  },
  {
   "cell_type": "markdown",
   "source": [
    "## For EAST Region:\r\n",
    "### Getting the state data for each state and taking the sum of number of people speaking a language for all states in the region and storing them into a variable\r\n",
    "### Getting the top 3 spoken languages from this variable"
   ],
   "metadata": {}
  },
  {
   "cell_type": "code",
   "execution_count": null,
   "source": [
    "EAST_A_DATA = [0]*len(EAST)\r\n",
    "EAST_A_LANG = [0]*len(lang_list)\r\n",
    "for i in range(len(EAST)):\r\n",
    "    EAST_A_DATA[i] = pd.read_excel(\"INPUT/STATES/DDW-C17-\"+state_code_list[state_name_list.index(EAST[i])]+\"00.XLSX\")\r\n",
    "    for j in range(len(lang_list)):\r\n",
    "        try:\r\n",
    "            EAST_A_LANG[j] = EAST_A_LANG[j] + EAST_A_DATA[i]['Unnamed: 4'][list(EAST_A_DATA[i]['Unnamed: 3']).index(lang_list[j])]\r\n",
    "        except:\r\n",
    "            pass\r\n",
    "EAST_A_TOP3 = sorted(zip(EAST_A_LANG, lang_list), reverse = True)[:3]"
   ],
   "outputs": [],
   "metadata": {}
  },
  {
   "cell_type": "markdown",
   "source": [
    "## For SOUTH Region:\r\n",
    "### Getting the state data for each state and taking the sum of number of people speaking a language for all states in the region and storing them into a variable\r\n",
    "### Getting the top 3 spoken languages from this variable"
   ],
   "metadata": {}
  },
  {
   "cell_type": "code",
   "execution_count": null,
   "source": [
    "SOUTH_A_DATA = [0]*len(SOUTH)\r\n",
    "SOUTH_A_LANG = [0]*len(lang_list)\r\n",
    "for i in range(len(SOUTH)):\r\n",
    "    SOUTH_A_DATA[i] = pd.read_excel(\"INPUT/STATES/DDW-C17-\"+state_code_list[state_name_list.index(SOUTH[i])]+\"00.XLSX\")\r\n",
    "    for j in range(len(lang_list)):\r\n",
    "        try:\r\n",
    "            SOUTH_A_LANG[j] = SOUTH_A_LANG[j] + SOUTH_A_DATA[i]['Unnamed: 4'][list(SOUTH_A_DATA[i]['Unnamed: 3']).index(lang_list[j])]\r\n",
    "        except:\r\n",
    "            pass\r\n",
    "SOUTH_A_TOP3 = sorted(zip(SOUTH_A_LANG, lang_list), reverse = True)[:3]"
   ],
   "outputs": [],
   "metadata": {}
  },
  {
   "cell_type": "markdown",
   "source": [
    "## For NORTH-EAST Region:\r\n",
    "### Getting the state data for each state and taking the sum of number of people speaking a language for all states in the region and storing them into a variable\r\n",
    "### Getting the top 3 spoken languages from this variable"
   ],
   "metadata": {}
  },
  {
   "cell_type": "code",
   "execution_count": null,
   "source": [
    "NORTH_EAST_A_DATA = [0]*len(NORTH_EAST)\r\n",
    "NORTH_EAST_A_LANG = [0]*len(lang_list)\r\n",
    "for i in range(len(NORTH_EAST)):\r\n",
    "    NORTH_EAST_A_DATA[i] = pd.read_excel(\"INPUT/STATES/DDW-C17-\"+state_code_list[state_name_list.index(NORTH_EAST[i])]+\"00.XLSX\")\r\n",
    "    for j in range(len(lang_list)):\r\n",
    "        try:\r\n",
    "            NORTH_EAST_A_LANG[j] = NORTH_EAST_A_LANG[j] + NORTH_EAST_A_DATA[i]['Unnamed: 4'][list(NORTH_EAST_A_DATA[i]['Unnamed: 3']).index(lang_list[j])]\r\n",
    "        except:\r\n",
    "            pass\r\n",
    "NORTH_EAST_A_TOP3 = sorted(zip(NORTH_EAST_A_LANG, lang_list), reverse = True)[:3]"
   ],
   "outputs": [],
   "metadata": {}
  },
  {
   "cell_type": "markdown",
   "source": [
    "# PART B: MOTHER TONGUE + 2nd LANGUAGE + 3rd LANGUAGE\r\n",
    "## For NORTH Region:\r\n",
    "### Getting the state data for each state and taking the sum of number of people speaking a language for all states in the region and storing them into a variable\r\n",
    "### Getting the top 3 spoken languages from this variable"
   ],
   "metadata": {}
  },
  {
   "cell_type": "code",
   "execution_count": null,
   "source": [
    "NORTH_B_LANG = [0]*len(lang_list)\r\n",
    "for i in range(len(NORTH)):\r\n",
    "    for j in range(len(lang_list)):\r\n",
    "        temp1sub = [t for t,e in enumerate(list(NORTH_A_DATA[i]['Unnamed: 8'])) if e == lang_list[j]]\r\n",
    "        l1sub = 0\r\n",
    "        for k in temp1sub:\r\n",
    "            l1sub = l1sub + NORTH_A_DATA[i]['Unnamed: 9'][k]\r\n",
    "        temp2sub = [t for t,e in enumerate(list(NORTH_A_DATA[i]['Unnamed: 13'])) if e == lang_list[j]]\r\n",
    "        l2sub = 0\r\n",
    "        for k in temp2sub:\r\n",
    "            l2sub = l2sub + NORTH_A_DATA[i]['Unnamed: 14'][k]\r\n",
    "        try:\r\n",
    "            NORTH_B_LANG[j] = NORTH_B_LANG[j] + NORTH_A_DATA[i]['Unnamed: 4'][list(NORTH_A_DATA[i]['Unnamed: 3']).index(lang_list[j])] + l1sub + l2sub \r\n",
    "        except:\r\n",
    "            pass\r\n",
    "NORTH_B_TOP3 = sorted(zip(NORTH_B_LANG, lang_list), reverse = True)[:3]"
   ],
   "outputs": [],
   "metadata": {}
  },
  {
   "cell_type": "markdown",
   "source": [
    "## For WEST Region:\r\n",
    "### Getting the state data for each state and taking the sum of number of people speaking a language for all states in the region and storing them into a variable\r\n",
    "### Getting the top 3 spoken languages from this variable"
   ],
   "metadata": {}
  },
  {
   "cell_type": "code",
   "execution_count": null,
   "source": [
    "WEST_B_LANG = [0]*len(lang_list)\r\n",
    "for i in range(len(WEST)):\r\n",
    "    for j in range(len(lang_list)):\r\n",
    "        temp1sub = [t for t,e in enumerate(list(WEST_A_DATA[i]['Unnamed: 8'])) if e == lang_list[j]]\r\n",
    "        l1sub = 0\r\n",
    "        for k in temp1sub:\r\n",
    "            l1sub = l1sub + WEST_A_DATA[i]['Unnamed: 9'][k]\r\n",
    "        temp2sub = [t for t,e in enumerate(list(WEST_A_DATA[i]['Unnamed: 13'])) if e == lang_list[j]]\r\n",
    "        l2sub = 0\r\n",
    "        for k in temp2sub:\r\n",
    "            l2sub = l2sub + WEST_A_DATA[i]['Unnamed: 14'][k]\r\n",
    "        try:\r\n",
    "            WEST_B_LANG[j] = WEST_B_LANG[j] + WEST_A_DATA[i]['Unnamed: 4'][list(WEST_A_DATA[i]['Unnamed: 3']).index(lang_list[j])]\r\n",
    "        except:\r\n",
    "            pass\r\n",
    "WEST_B_TOP3 = sorted(zip(WEST_B_LANG, lang_list), reverse = True)[:3]"
   ],
   "outputs": [],
   "metadata": {}
  },
  {
   "cell_type": "markdown",
   "source": [
    "## For CENTRAL Region:\r\n",
    "### Getting the state data for each state and taking the sum of number of people speaking a language for all states in the region and storing them into a variable\r\n",
    "### Getting the top 3 spoken languages from this variable"
   ],
   "metadata": {}
  },
  {
   "cell_type": "code",
   "execution_count": null,
   "source": [
    "CENTRAL_B_LANG = [0]*len(lang_list)\r\n",
    "for i in range(len(CENTRAL)):\r\n",
    "    for j in range(len(lang_list)):\r\n",
    "        temp1sub = [t for t,e in enumerate(list(CENTRAL_A_DATA[i]['Unnamed: 8'])) if e == lang_list[j]]\r\n",
    "        l1sub = 0\r\n",
    "        for k in temp1sub:\r\n",
    "            l1sub = l1sub + CENTRAL_A_DATA[i]['Unnamed: 9'][k]\r\n",
    "        temp2sub = [t for t,e in enumerate(list(CENTRAL_A_DATA[i]['Unnamed: 13'])) if e == lang_list[j]]\r\n",
    "        l2sub = 0\r\n",
    "        for k in temp2sub:\r\n",
    "            l2sub = l2sub + CENTRAL_A_DATA[i]['Unnamed: 14'][k]\r\n",
    "        try:\r\n",
    "            CENTRAL_B_LANG[j] = CENTRAL_B_LANG[j] + CENTRAL_A_DATA[i]['Unnamed: 4'][list(CENTRAL_A_DATA[i]['Unnamed: 3']).index(lang_list[j])]\r\n",
    "        except:\r\n",
    "            pass\r\n",
    "CENTRAL_B_TOP3 = sorted(zip(CENTRAL_B_LANG, lang_list), reverse = True)[:3]"
   ],
   "outputs": [],
   "metadata": {}
  },
  {
   "cell_type": "markdown",
   "source": [
    "## For EAST Region:\r\n",
    "### Getting the state data for each state and taking the sum of number of people speaking a language for all states in the region and storing them into a variable\r\n",
    "### Getting the top 3 spoken languages from this variable"
   ],
   "metadata": {}
  },
  {
   "cell_type": "code",
   "execution_count": null,
   "source": [
    "EAST_B_LANG = [0]*len(lang_list)\r\n",
    "for i in range(len(EAST)):\r\n",
    "    for j in range(len(lang_list)):\r\n",
    "        temp1sub = [t for t,e in enumerate(list(EAST_A_DATA[i]['Unnamed: 8'])) if e == lang_list[j]]\r\n",
    "        l1sub = 0\r\n",
    "        for k in temp1sub:\r\n",
    "            l1sub = l1sub + EAST_A_DATA[i]['Unnamed: 9'][k]\r\n",
    "        temp2sub = [t for t,e in enumerate(list(EAST_A_DATA[i]['Unnamed: 13'])) if e == lang_list[j]]\r\n",
    "        l2sub = 0\r\n",
    "        for k in temp2sub:\r\n",
    "            l2sub = l2sub + EAST_A_DATA[i]['Unnamed: 14'][k]\r\n",
    "        try:\r\n",
    "            EAST_B_LANG[j] = EAST_B_LANG[j] + EAST_A_DATA[i]['Unnamed: 4'][list(EAST_A_DATA[i]['Unnamed: 3']).index(lang_list[j])]\r\n",
    "        except:\r\n",
    "            pass\r\n",
    "EAST_B_TOP3 = sorted(zip(EAST_B_LANG, lang_list), reverse = True)[:3]"
   ],
   "outputs": [],
   "metadata": {}
  },
  {
   "cell_type": "markdown",
   "source": [
    "## For SOUTH Region:\r\n",
    "### Getting the state data for each state and taking the sum of number of people speaking a language for all states in the region and storing them into a variable\r\n",
    "### Getting the top 3 spoken languages from this variable"
   ],
   "metadata": {}
  },
  {
   "cell_type": "code",
   "execution_count": null,
   "source": [
    "SOUTH_B_LANG = [0]*len(lang_list)\r\n",
    "for i in range(len(SOUTH)):\r\n",
    "    for j in range(len(lang_list)):\r\n",
    "        temp1sub = [t for t,e in enumerate(list(SOUTH_A_DATA[i]['Unnamed: 8'])) if e == lang_list[j]]\r\n",
    "        l1sub = 0\r\n",
    "        for k in temp1sub:\r\n",
    "            l1sub = l1sub + SOUTH_A_DATA[i]['Unnamed: 9'][k]\r\n",
    "        temp2sub = [t for t,e in enumerate(list(SOUTH_A_DATA[i]['Unnamed: 13'])) if e == lang_list[j]]\r\n",
    "        l2sub = 0\r\n",
    "        for k in temp2sub:\r\n",
    "            l2sub = l2sub + SOUTH_A_DATA[i]['Unnamed: 14'][k]\r\n",
    "        try:\r\n",
    "            SOUTH_B_LANG[j] = SOUTH_B_LANG[j] + SOUTH_A_DATA[i]['Unnamed: 4'][list(SOUTH_A_DATA[i]['Unnamed: 3']).index(lang_list[j])]\r\n",
    "        except:\r\n",
    "            pass\r\n",
    "SOUTH_B_TOP3 = sorted(zip(SOUTH_B_LANG, lang_list), reverse = True)[:3]"
   ],
   "outputs": [],
   "metadata": {}
  },
  {
   "cell_type": "markdown",
   "source": [
    "## For NORTH-EAST Region:\r\n",
    "### Getting the state data for each state and taking the sum of number of people speaking a language for all states in the region and storing them into a variable\r\n",
    "### Getting the top 3 spoken languages from this variable"
   ],
   "metadata": {}
  },
  {
   "cell_type": "code",
   "execution_count": null,
   "source": [
    "NORTH_EAST_B_LANG = [0]*len(lang_list)\r\n",
    "for i in range(len(NORTH_EAST)):\r\n",
    "    for j in range(len(lang_list)):\r\n",
    "        temp1sub = [t for t,e in enumerate(list(NORTH_EAST_A_DATA[i]['Unnamed: 8'])) if e == lang_list[j]]\r\n",
    "        l1sub = 0\r\n",
    "        for k in temp1sub:\r\n",
    "            l1sub = l1sub + NORTH_EAST_A_DATA[i]['Unnamed: 9'][k]\r\n",
    "        temp2sub = [t for t,e in enumerate(list(NORTH_EAST_A_DATA[i]['Unnamed: 13'])) if e == lang_list[j]]\r\n",
    "        l2sub = 0\r\n",
    "        for k in temp2sub:\r\n",
    "            l2sub = l2sub + NORTH_EAST_A_DATA[i]['Unnamed: 14'][k]\r\n",
    "        try:\r\n",
    "            NORTH_EAST_B_LANG[j] = NORTH_EAST_B_LANG[j] + NORTH_EAST_A_DATA[i]['Unnamed: 4'][list(NORTH_EAST_A_DATA[i]['Unnamed: 3']).index(lang_list[j])]\r\n",
    "        except:\r\n",
    "            pass\r\n",
    "NORTH_EAST_B_TOP3 = sorted(zip(NORTH_EAST_B_LANG, lang_list), reverse = True)[:3]"
   ],
   "outputs": [],
   "metadata": {}
  },
  {
   "cell_type": "markdown",
   "source": [
    "### Creating lists of language 1 , language 2, language 3 from the created lists for both parts"
   ],
   "metadata": {}
  },
  {
   "cell_type": "code",
   "execution_count": null,
   "source": [
    "regions = ['NORTH', 'WEST', 'CENTRAL', 'EAST', 'SOUTH', 'NORTH-EAST']\r\n",
    "lang1_a = [NORTH_A_TOP3[0][1],WEST_A_TOP3[0][1],CENTRAL_A_TOP3[0][1],EAST_A_TOP3[0][1],SOUTH_A_TOP3[0][1],NORTH_EAST_A_TOP3[0][1]]\r\n",
    "lang2_a = [NORTH_A_TOP3[1][1],WEST_A_TOP3[1][1],CENTRAL_A_TOP3[1][1],EAST_A_TOP3[1][1],SOUTH_A_TOP3[1][1],NORTH_EAST_A_TOP3[1][1]]\r\n",
    "lang3_a = [NORTH_A_TOP3[2][1],WEST_A_TOP3[2][1],CENTRAL_A_TOP3[2][1],EAST_A_TOP3[2][1],SOUTH_A_TOP3[2][1],NORTH_EAST_A_TOP3[2][1]]\r\n",
    "lang1_b = [NORTH_B_TOP3[0][1],WEST_B_TOP3[0][1],CENTRAL_B_TOP3[0][1],EAST_B_TOP3[0][1],SOUTH_B_TOP3[0][1],NORTH_EAST_B_TOP3[0][1]]\r\n",
    "lang2_b = [NORTH_B_TOP3[1][1],WEST_B_TOP3[1][1],CENTRAL_B_TOP3[1][1],EAST_B_TOP3[1][1],SOUTH_B_TOP3[1][1],NORTH_EAST_B_TOP3[1][1]]\r\n",
    "lang3_b = [NORTH_B_TOP3[2][1],WEST_B_TOP3[2][1],CENTRAL_B_TOP3[2][1],EAST_B_TOP3[2][1],SOUTH_B_TOP3[2][1],NORTH_EAST_B_TOP3[2][1]]"
   ],
   "outputs": [],
   "metadata": {}
  },
  {
   "cell_type": "markdown",
   "source": [
    "### Creating dataframes for both parts and exporting them to 'region-inida-a.csv' and 'region-india-b.csv'"
   ],
   "metadata": {}
  },
  {
   "cell_type": "code",
   "execution_count": null,
   "source": [
    "data_final = {'region':regions, 'language-1':lang1_a, 'language-2':lang2_a, 'language-3': lang3_a}\r\n",
    "region_india_a = pd.DataFrame(data_final)\r\n",
    "region_india_a.to_csv('OUTPUT/region-india-a.csv', index = False)\r\n",
    "data_final = {'region':regions, 'language-1':lang1_b, 'language-2':lang2_b, 'language-3': lang3_b}\r\n",
    "region_india_b = pd.DataFrame(data_final)\r\n",
    "region_india_b.to_csv('OUTPUT/region-india-b.csv', index = False)"
   ],
   "outputs": [],
   "metadata": {}
  }
 ],
 "metadata": {
  "orig_nbformat": 4,
  "language_info": {
   "name": "python",
   "version": "3.7.3",
   "mimetype": "text/x-python",
   "codemirror_mode": {
    "name": "ipython",
    "version": 3
   },
   "pygments_lexer": "ipython3",
   "nbconvert_exporter": "python",
   "file_extension": ".py"
  },
  "kernelspec": {
   "name": "python3",
   "display_name": "Python 3.7.3 64-bit"
  },
  "interpreter": {
   "hash": "c80d797ad0c0f99ceecb07d53ac314bc1d62fa8729ade7f8a491ed15ddf8184a"
  }
 },
 "nbformat": 4,
 "nbformat_minor": 2
}