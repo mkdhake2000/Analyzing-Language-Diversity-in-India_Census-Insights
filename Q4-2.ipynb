{
 "cells": [
  {
   "cell_type": "markdown",
   "source": [
    "## Importing 'DDW-C18-0000.XLSX'(Language Data)  and 'DDW_PCA0000_2011_Indiastatedist.xlsx'(Census Data) file using pandas"
   ],
   "metadata": {}
  },
  {
   "cell_type": "code",
   "execution_count": null,
   "source": [
    "import pandas as pd\r\n",
    "data = pd.read_excel('INPUT/DDW-C18-0000.XLSX')\r\n",
    "census_data = pd.read_excel('INPUT/DDW_PCA0000_2011_Indiastatedist.xlsx')"
   ],
   "outputs": [],
   "metadata": {}
  },
  {
   "cell_type": "markdown",
   "source": [
    "### Getting the index of rows containing state data for getting the total population of each state from census data"
   ],
   "metadata": {}
  },
  {
   "cell_type": "code",
   "execution_count": null,
   "source": [
    "index = []\r\n",
    "for i in range(len(census_data)):\r\n",
    "    if census_data['Level'][i] == 'STATE':\r\n",
    "        index.append(i)\r\n",
    "for i in range(0,len(index),3):\r\n",
    "    index[int(i/3)] = index[i]\r\n",
    "index = index[:35]\r\n",
    "index"
   ],
   "outputs": [
    {
     "output_type": "display_data",
     "data": {
      "text/plain": [
       "[3,\n",
       " 72,\n",
       " 111,\n",
       " 174,\n",
       " 180,\n",
       " 222,\n",
       " 288,\n",
       " 318,\n",
       " 420,\n",
       " 636,\n",
       " 753,\n",
       " 768,\n",
       " 819,\n",
       " 855,\n",
       " 885,\n",
       " 912,\n",
       " 927,\n",
       " 951,\n",
       " 1035,\n",
       " 1095,\n",
       " 1170,\n",
       " 1263,\n",
       " 1320,\n",
       " 1473,\n",
       " 1554,\n",
       " 1563,\n",
       " 1569,\n",
       " 1677,\n",
       " 1749,\n",
       " 1842,\n",
       " 1851,\n",
       " 1857,\n",
       " 1902,\n",
       " 2001,\n",
       " 2016]"
      ]
     },
     "metadata": {}
    }
   ],
   "metadata": {}
  },
  {
   "cell_type": "markdown",
   "source": [
    "### Getting the names of states from census data and language data and checking if they both have the same states with same sequence"
   ],
   "metadata": {}
  },
  {
   "cell_type": "code",
   "execution_count": null,
   "source": [
    "state_census = [0]*(len(index))\r\n",
    "for i in range(len(index)):\r\n",
    "    state_census[i] = census_data['Name'][index[i]]\r\n",
    "state_lang = data['Unnamed: 2'][36:].unique()\r\n",
    "yes = 0\r\n",
    "for i in range(len(state_census)):\r\n",
    "    if state_census[i] == state_lang[i]:\r\n",
    "        yes = yes+1\r\n",
    "print(yes)"
   ],
   "outputs": [
    {
     "output_type": "stream",
     "name": "stdout",
     "text": [
      "35\n"
     ]
    }
   ],
   "metadata": {}
  },
  {
   "cell_type": "markdown",
   "source": [
    "### Since the states max from both census and language data are same we can directly corresponding the states list of both data\r\n",
    "### Getting the total population for each state from census data"
   ],
   "metadata": {}
  },
  {
   "cell_type": "code",
   "execution_count": null,
   "source": [
    "state_pop = [0]*len(index)\r\n",
    "for i in range(len(index)):\r\n",
    "    state_pop[i] = census_data['TOT_P'][index[i]]"
   ],
   "outputs": [],
   "metadata": {}
  },
  {
   "cell_type": "markdown",
   "source": [
    "### Getting the 'Number speaking second language' and 'Number speaking third language' from language data\r\n",
    "### People speaking 3 or more languages is given directly in the data"
   ],
   "metadata": {}
  },
  {
   "cell_type": "code",
   "execution_count": null,
   "source": [
    "state_2lang = [0] * len(index)\r\n",
    "state_threelang = [0] * len(index)\r\n",
    "for i in range(len(index)):\r\n",
    "    state_2lang[i] = data['Unnamed: 5'][list(data['Unnamed: 2']).index(state_census[i])]\r\n",
    "    state_threelang[i] = data['Unnamed: 8'][list(data['Unnamed: 2']).index(state_census[i])]"
   ],
   "outputs": [],
   "metadata": {}
  },
  {
   "cell_type": "markdown",
   "source": [
    "### Getting the counts of people speaking only one language, exactly two languages and three languages or more for each state.\r\n",
    "### People speaking only 1 language = Total Population - People speaking 2 or more language\r\n",
    "### People speaking exactly 2 languages = People speaking 2 or more language - People speaking 3 or more language"
   ],
   "metadata": {}
  },
  {
   "cell_type": "code",
   "execution_count": null,
   "source": [
    "state_onelang = [0] * len(index)\r\n",
    "state_twolang = [0] * len(index)\r\n",
    "for i in range(len(index)):\r\n",
    "    state_onelang[i] = state_pop[i] - state_2lang[i]\r\n",
    "    state_twolang[i] = state_2lang[i] - state_threelang[i]"
   ],
   "outputs": [],
   "metadata": {}
  },
  {
   "cell_type": "markdown",
   "source": [
    "### Getting the ratio of number of people speaking 3 or more languages to number of people speaking exactly two languages\r\n",
    "### Getting the ratio of number of people speaking exactly 2 languages to number of people speaking only one language"
   ],
   "metadata": {}
  },
  {
   "cell_type": "code",
   "execution_count": null,
   "source": [
    "state_2to1 = [0] * len(index)\r\n",
    "for i in range(len(index)):\r\n",
    "    state_2to1[i] = state_twolang[i] / state_onelang[i]"
   ],
   "outputs": [],
   "metadata": {}
  },
  {
   "cell_type": "markdown",
   "source": [
    "### Getting the top three maximum ratios in the ratio list of number of people speaking exactly 2 languages to number of people speaking only one language and their indices to get their appropriate states"
   ],
   "metadata": {}
  },
  {
   "cell_type": "code",
   "execution_count": null,
   "source": [
    "state_2to1max = [0] * 3\r\n",
    "ind_2to1max = [0] * 3\r\n",
    "s_2to1 = state_2to1[:]\r\n",
    "state_2to1max[0] = max(s_2to1)\r\n",
    "s_2to1.remove(state_2to1max[0])\r\n",
    "ind_2to1max[0] = state_2to1.index(state_2to1max[0])\r\n",
    "state_2to1max[1] = max(s_2to1)\r\n",
    "s_2to1.remove(state_2to1max[1])\r\n",
    "ind_2to1max[1] = state_2to1.index(state_2to1max[1])\r\n",
    "state_2to1max[2] = max(s_2to1)\r\n",
    "ind_2to1max[2] = state_2to1.index(state_2to1max[2])"
   ],
   "outputs": [],
   "metadata": {}
  },
  {
   "cell_type": "markdown",
   "source": [
    "### Getting the lowest three minimum ratios in the ratio list of number of people speaking exactly 2 languages to number of people speaking only one language and their indices to get their appropriate states"
   ],
   "metadata": {}
  },
  {
   "cell_type": "code",
   "execution_count": null,
   "source": [
    "state_2to1min = [0] * 3\r\n",
    "ind_2to1min = [0] * 3\r\n",
    "s_2to1 = state_2to1[:]\r\n",
    "state_2to1min[0] = min(s_2to1)\r\n",
    "s_2to1.remove(state_2to1min[0])\r\n",
    "ind_2to1min[0] = state_2to1.index(state_2to1min[0])\r\n",
    "state_2to1min[1] = min(s_2to1)\r\n",
    "s_2to1.remove(state_2to1min[1])\r\n",
    "ind_2to1min[1] = state_2to1.index(state_2to1min[1])\r\n",
    "state_2to1min[2] = min(s_2to1)\r\n",
    "ind_2to1min[2] = state_2to1.index(state_2to1min[2])"
   ],
   "outputs": [],
   "metadata": {}
  },
  {
   "cell_type": "markdown",
   "source": [
    "### Getting the codes of the states and finding the state codes and names corresponding to the highest and lowest ratios using indices found above"
   ],
   "metadata": {}
  },
  {
   "cell_type": "code",
   "execution_count": null,
   "source": [
    "state_code = [0] * len(index)\r\n",
    "for i in range(len(index)):\r\n",
    "    state_code[i] = data['C-18 POPULATION BY BILINGUALISM, TRILINGUALISM, AGE AND SEX'][list(data['Unnamed: 2']).index(state_census[i])]\r\n",
    "state_code2to1 = [state_code[ind_2to1max[0]],state_code[ind_2to1max[1]],state_code[ind_2to1max[2]],state_code[ind_2to1min[0]],state_code[ind_2to1min[1]],state_code[ind_2to1min[2]]]\r\n",
    "state_name2to1 = [state_census[ind_2to1max[0]],state_census[ind_2to1max[1]],state_census[ind_2to1max[2]],state_census[ind_2to1min[0]],state_census[ind_2to1min[1]],state_census[ind_2to1min[2]]]"
   ],
   "outputs": [],
   "metadata": {}
  },
  {
   "cell_type": "markdown",
   "source": [
    "### Exporting the maximum and minimum ratios of number of people speaking exactly 2 languages to number of people speaking only one language"
   ],
   "metadata": {}
  },
  {
   "cell_type": "code",
   "execution_count": null,
   "source": [
    "data_final = {'State-Code': state_code2to1, 'State-Name': state_name2to1,'Ratio': state_2to1max + state_2to1min}\r\n",
    "ratio_2to1 = pd.DataFrame(data_final)\r\n",
    "ratio_2to1"
   ],
   "outputs": [
    {
     "output_type": "display_data",
     "data": {
      "text/html": [
       "<div>\n",
       "<style scoped>\n",
       "    .dataframe tbody tr th:only-of-type {\n",
       "        vertical-align: middle;\n",
       "    }\n",
       "\n",
       "    .dataframe tbody tr th {\n",
       "        vertical-align: top;\n",
       "    }\n",
       "\n",
       "    .dataframe thead th {\n",
       "        text-align: right;\n",
       "    }\n",
       "</style>\n",
       "<table border=\"1\" class=\"dataframe\">\n",
       "  <thead>\n",
       "    <tr style=\"text-align: right;\">\n",
       "      <th></th>\n",
       "      <th>State-Code</th>\n",
       "      <th>State Name</th>\n",
       "      <th>Ratio</th>\n",
       "    </tr>\n",
       "  </thead>\n",
       "  <tbody>\n",
       "    <tr>\n",
       "      <th>0</th>\n",
       "      <td>35</td>\n",
       "      <td>ANDAMAN &amp; NICOBAR ISLANDS</td>\n",
       "      <td>1.499862</td>\n",
       "    </tr>\n",
       "    <tr>\n",
       "      <th>1</th>\n",
       "      <td>30</td>\n",
       "      <td>GOA</td>\n",
       "      <td>1.157976</td>\n",
       "    </tr>\n",
       "    <tr>\n",
       "      <th>2</th>\n",
       "      <td>12</td>\n",
       "      <td>ARUNACHAL PRADESH</td>\n",
       "      <td>0.938953</td>\n",
       "    </tr>\n",
       "    <tr>\n",
       "      <th>3</th>\n",
       "      <td>08</td>\n",
       "      <td>RAJASTHAN</td>\n",
       "      <td>0.105877</td>\n",
       "    </tr>\n",
       "    <tr>\n",
       "      <th>4</th>\n",
       "      <td>09</td>\n",
       "      <td>UTTAR PRADESH</td>\n",
       "      <td>0.114661</td>\n",
       "    </tr>\n",
       "    <tr>\n",
       "      <th>5</th>\n",
       "      <td>22</td>\n",
       "      <td>CHHATTISGARH</td>\n",
       "      <td>0.133643</td>\n",
       "    </tr>\n",
       "  </tbody>\n",
       "</table>\n",
       "</div>"
      ],
      "text/plain": [
       "  State-Code                 State Name     Ratio\n",
       "0         35  ANDAMAN & NICOBAR ISLANDS  1.499862\n",
       "1         30                        GOA  1.157976\n",
       "2         12          ARUNACHAL PRADESH  0.938953\n",
       "3         08                  RAJASTHAN  0.105877\n",
       "4         09              UTTAR PRADESH  0.114661\n",
       "5         22               CHHATTISGARH  0.133643"
      ]
     },
     "metadata": {}
    }
   ],
   "metadata": {}
  },
  {
   "cell_type": "markdown",
   "source": [
    "### Exporting the dataframe to \"2-to-1-ratio.csv\""
   ],
   "metadata": {}
  },
  {
   "cell_type": "code",
   "execution_count": null,
   "source": [
    "ratio_2to1.to_csv(\"OUTPUT/2-to-1-ratio.csv\",index = False)"
   ],
   "outputs": [],
   "metadata": {}
  }
 ],
 "metadata": {
  "orig_nbformat": 4,
  "language_info": {
   "name": "python"
  }
 },
 "nbformat": 4,
 "nbformat_minor": 2
}