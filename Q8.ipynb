{
 "cells": [
  {
   "cell_type": "markdown",
   "source": [
    "## Importing 'DDW-C18-0000.XLSX'(Language Data)  and 'DDW-0000C-13A.xlsx'(Census Data according to age) file using pandas"
   ],
   "metadata": {}
  },
  {
   "cell_type": "code",
   "execution_count": 20,
   "source": [
    "import pandas as pd\r\n",
    "data = pd.read_excel('INPUT/DDW-C18-0000.XLSX')\r\n",
    "census_data = pd.read_excel('INPUT/DDW-0000C-13A.xlsx')"
   ],
   "outputs": [],
   "metadata": {}
  },
  {
   "cell_type": "markdown",
   "source": [
    "### Creating the list of age groups included in the language data to get the appropriate data from the census data according to age\r\n",
    "### We modify some elements of the list for easy functioning in the later part"
   ],
   "metadata": {}
  },
  {
   "cell_type": "code",
   "execution_count": 21,
   "source": [
    "age_grp = data['Unnamed: 4'][6:].unique()\r\n",
    "age_grp = list(age_grp)\r\n",
    "age_grp = age_grp[:9]\r\n",
    "age_grp\r\n",
    "age_grp[7] = '70-100+'\r\n",
    "age_grp[8] = 'Age not stated-'\r\n",
    "age_grp"
   ],
   "outputs": [
    {
     "output_type": "execute_result",
     "data": {
      "text/plain": [
       "['5-9',\n",
       " '10-14',\n",
       " '15-19',\n",
       " '20-24',\n",
       " '25-29',\n",
       " '30-49',\n",
       " '50-69',\n",
       " '70-100+',\n",
       " 'Age not stated-']"
      ]
     },
     "metadata": {},
     "execution_count": 21
    }
   ],
   "metadata": {}
  },
  {
   "cell_type": "markdown",
   "source": [
    "### Getting the list of age column from the census data according to age, and finding the unique values from this list to get one single list of all ages as strings(for matching with above found age groups list) occuring in the complete census data for all states, UTs and India. This will help us to get the ages of age groups found above"
   ],
   "metadata": {}
  },
  {
   "cell_type": "code",
   "execution_count": 22,
   "source": [
    "age_list = census_data['C-13 APPENDIX - SINGLE YEAR AGE RETURNS BY RESIDENCE, SEX  AND LITERACY STATUS'][6:].unique()\r\n",
    "age_list = list(age_list)\r\n",
    "for i in range(len(age_list)):\r\n",
    "    age_list[i] = str(age_list[i])"
   ],
   "outputs": [],
   "metadata": {}
  },
  {
   "cell_type": "markdown",
   "source": [
    "### Getting the indices of the starting age of an age group in the above found list so that by manipulating certain parameters we can reach the population for an age with the help of these indices. Also, adding an extra index for getting the data for the last group too"
   ],
   "metadata": {}
  },
  {
   "cell_type": "code",
   "execution_count": 23,
   "source": [
    "age_grp_ind = []\r\n",
    "for i in range(len(age_grp)):\r\n",
    "    age_grp_ind.append(age_list.index(age_grp[i].split(\"-\")[0]))\r\n",
    "age_grp_ind\r\n",
    "age_grp_ind.append(age_grp_ind[-1]+1)\r\n",
    "age_grp_ind"
   ],
   "outputs": [
    {
     "output_type": "execute_result",
     "data": {
      "text/plain": [
       "[6, 11, 16, 21, 26, 31, 51, 71, 102, 103]"
      ]
     },
     "metadata": {},
     "execution_count": 23
    }
   ],
   "metadata": {}
  },
  {
   "cell_type": "markdown",
   "source": [
    "### Getting the unique list of states/UTs from the census data to check whether they are similar to the ones obtained from the language data"
   ],
   "metadata": {}
  },
  {
   "cell_type": "code",
   "execution_count": 24,
   "source": [
    "name_lst = list(census_data['Unnamed: 3'][6:].unique())\r\n",
    "for i in range(len(name_lst)):\r\n",
    "    if name_lst[i] == \"India\":\r\n",
    "        name_lst[i] = \"INDIA\"\r\n",
    "    else:\r\n",
    "        name_lst[i] = name_lst[i].split(\"- \")[1]\r\n",
    "        name_lst[i] = name_lst[i].split(\" (\")[0]"
   ],
   "outputs": [],
   "metadata": {}
  },
  {
   "cell_type": "markdown",
   "source": [
    "### Checking if both have the same states with same sequence"
   ],
   "metadata": {}
  },
  {
   "cell_type": "code",
   "execution_count": 25,
   "source": [
    "state_lang = data['Unnamed: 2'][6:].unique()\r\n",
    "yes = 0\r\n",
    "for i in range(len(state_lang)):\r\n",
    "    if name_lst[i] == state_lang[i]:\r\n",
    "        yes = yes+1\r\n",
    "print(yes)"
   ],
   "outputs": [
    {
     "output_type": "stream",
     "name": "stdout",
     "text": [
      "36\n"
     ]
    }
   ],
   "metadata": {}
  },
  {
   "cell_type": "markdown",
   "source": [
    "### Getting the total male population for each state/UT for each age group and storing that in form of a list of lists. Here, the total population is divided in literate and illiterate groups. So, We just sum them up together"
   ],
   "metadata": {}
  },
  {
   "cell_type": "code",
   "execution_count": 26,
   "source": [
    "male_age_pop = [[0]*len(age_grp)]*len(name_lst)\r\n",
    "for i in range(len(name_lst)):\r\n",
    "    temp = [0]*len(age_grp)\r\n",
    "    for j in range(len(age_grp)):\r\n",
    "        for k in range(age_grp_ind[j],age_grp_ind[j+1]):\r\n",
    "            temp[j] =  temp[j] + census_data['Unnamed: 7'][((2*(i + 1))-2)*103 + k + 6] + census_data['Unnamed: 7'][((2*(i+1))-1)*103 + k + 6]\r\n",
    "    male_age_pop[i] = temp"
   ],
   "outputs": [],
   "metadata": {}
  },
  {
   "cell_type": "markdown",
   "source": [
    "### Getting the total female population for each state/UT for each age group and storing that in form of a list of lists. Here, the total population is divided in literate and illiterate groups. So, We just sum them up together"
   ],
   "metadata": {}
  },
  {
   "cell_type": "code",
   "execution_count": null,
   "source": [
    "female_age_pop = [[0]*len(age_grp)]*len(name_lst)\r\n",
    "for i in range(len(name_lst)):\r\n",
    "    temp = [0]*len(age_grp)\r\n",
    "    for j in range(len(age_grp)):\r\n",
    "        for k in range(age_grp_ind[j],age_grp_ind[j+1]):\r\n",
    "            temp[j] =  temp[j] + census_data['Unnamed: 8'][((2*(i + 1))-2)*103 + k + 6] + census_data['Unnamed: 8'][((2*(i+1))-1)*103 + k + 6]\r\n",
    "    female_age_pop[i] = temp"
   ],
   "outputs": [],
   "metadata": {}
  },
  {
   "cell_type": "markdown",
   "source": [
    "### Getting the male population speaking third language, two languages and only one language for all state/UTs and India"
   ],
   "metadata": {}
  },
  {
   "cell_type": "code",
   "execution_count": null,
   "source": [
    "male_age_pop_3 = [[0]*len(age_grp)]*len(name_lst)\r\n",
    "male_age_pop_2 = [[0]*len(age_grp)]*len(name_lst)\r\n",
    "male_age_pop_1 = [[0]*len(age_grp)]*len(name_lst)\r\n",
    "for i in range(len(name_lst)):\r\n",
    "    temp3 = [0]* len(age_grp)\r\n",
    "    temp2 = [0]* len(age_grp)\r\n",
    "    temp1 = [0]* len(age_grp)\r\n",
    "    for j in range(len(age_grp)):\r\n",
    "        temp3[j] = (data['Unnamed: 9'][(list(data['Unnamed: 2']).index(name_lst[i]))+j+1])\r\n",
    "        temp2[j] = (data['Unnamed: 6'][(list(data['Unnamed: 2']).index(name_lst[i]))+j+1]) - temp3[j]\r\n",
    "        temp1[j] = male_age_pop[i][j] - temp2[j] -temp3[j]\r\n",
    "    male_age_pop_3[i] = temp3\r\n",
    "    male_age_pop_2[i] = temp2\r\n",
    "    male_age_pop_1[i] = temp1"
   ],
   "outputs": [],
   "metadata": {}
  },
  {
   "cell_type": "markdown",
   "source": [
    "### Getting the ratio of male population speaking third language, two language and only one language for all state/UTs and India"
   ],
   "metadata": {}
  },
  {
   "cell_type": "code",
   "execution_count": null,
   "source": [
    "male_age_ratio_3 = [[0]*len(age_grp)]*len(name_lst)\r\n",
    "male_age_ratio_2 = [[0]*len(age_grp)]*len(name_lst)\r\n",
    "male_age_ratio_1 = [[0]*len(age_grp)]*len(name_lst)\r\n",
    "for i in range(len(name_lst)):\r\n",
    "    temp3 = [0]* len(age_grp)\r\n",
    "    temp2 = [0]* len(age_grp)\r\n",
    "    temp1 = [0]* len(age_grp)\r\n",
    "    for j in range(len(age_grp)):\r\n",
    "        temp3[j] = male_age_pop_3[i][j] / male_age_pop[i][j]\r\n",
    "        temp2[j] = male_age_pop_2[i][j] / male_age_pop[i][j]\r\n",
    "        temp1[j] = male_age_pop_1[i][j] / male_age_pop[i][j]\r\n",
    "    male_age_ratio_3[i] = temp3\r\n",
    "    male_age_ratio_2[i] = temp2\r\n",
    "    male_age_ratio_1[i] = temp1"
   ],
   "outputs": [],
   "metadata": {}
  },
  {
   "cell_type": "markdown",
   "source": [
    "### Getting the female population speaking third language, two languages and only one language for all state/UTs and India"
   ],
   "metadata": {}
  },
  {
   "cell_type": "code",
   "execution_count": null,
   "source": [
    "female_age_pop_3 = [[0]*len(age_grp)]*len(name_lst)\r\n",
    "female_age_pop_2 = [[0]*len(age_grp)]*len(name_lst)\r\n",
    "female_age_pop_1 = [[0]*len(age_grp)]*len(name_lst)\r\n",
    "for i in range(len(name_lst)):\r\n",
    "    temp3 = [0]* len(age_grp)\r\n",
    "    temp2 = [0]* len(age_grp)\r\n",
    "    temp1 = [0]* len(age_grp)\r\n",
    "    for j in range(len(age_grp)):\r\n",
    "        temp3[j] = (data['Unnamed: 10'][(list(data['Unnamed: 2']).index(name_lst[i]))+j+1])\r\n",
    "        temp2[j] = (data['Unnamed: 7'][(list(data['Unnamed: 2']).index(name_lst[i]))+j+1]) - temp3[j]\r\n",
    "        temp1[j] = male_age_pop[i][j] - temp2[j] -temp3[j]\r\n",
    "    female_age_pop_3[i] = temp3\r\n",
    "    female_age_pop_2[i] = temp2\r\n",
    "    female_age_pop_1[i] = temp1"
   ],
   "outputs": [],
   "metadata": {}
  },
  {
   "cell_type": "markdown",
   "source": [
    "### Getting the ratio of male population speaking third language, two language and only one language for all state/UTs and India"
   ],
   "metadata": {}
  },
  {
   "cell_type": "code",
   "execution_count": null,
   "source": [
    "female_age_ratio_3 = [[0]*len(age_grp)]*len(name_lst)\r\n",
    "female_age_ratio_2 = [[0]*len(age_grp)]*len(name_lst)\r\n",
    "female_age_ratio_1 = [[0]*len(age_grp)]*len(name_lst)\r\n",
    "for i in range(len(name_lst)):\r\n",
    "    temp3 = [0]* len(age_grp)\r\n",
    "    temp2 = [0]* len(age_grp)\r\n",
    "    temp1 = [0]* len(age_grp)\r\n",
    "    for j in range(len(age_grp)):\r\n",
    "        temp3[j] = female_age_pop_3[i][j] / female_age_pop[i][j]\r\n",
    "        temp2[j] = female_age_pop_2[i][j] / female_age_pop[i][j]\r\n",
    "        temp1[j] = female_age_pop_1[i][j] / female_age_pop[i][j]\r\n",
    "    female_age_ratio_3[i] = temp3\r\n",
    "    female_age_ratio_2[i] = temp2\r\n",
    "    female_age_ratio_1[i] = temp1"
   ],
   "outputs": [],
   "metadata": {}
  },
  {
   "cell_type": "markdown",
   "source": [
    "### Getting the maximum male ratio for each state/UT with the index for the age group which has this highest ratio"
   ],
   "metadata": {}
  },
  {
   "cell_type": "code",
   "execution_count": null,
   "source": [
    "male_age_ratiomax_3 = [0] * len(name_lst)\r\n",
    "male_age_ratiomax_2 = [0] * len(name_lst)\r\n",
    "male_age_ratiomax_1 = [0] * len(name_lst)\r\n",
    "male_age_ratiomax_agegrp_3 = [0] * len(name_lst)\r\n",
    "male_age_ratiomax_agegrp_2 = [0] * len(name_lst)\r\n",
    "male_age_ratiomax_agegrp_1 = [0] * len(name_lst)\r\n",
    "for i in range(len(name_lst)):\r\n",
    "    male_age_ratiomax_3[i] = max(male_age_ratio_3[i])\r\n",
    "    male_age_ratiomax_2[i] = max(male_age_ratio_2[i])\r\n",
    "    male_age_ratiomax_1[i] = max(male_age_ratio_1[i])\r\n",
    "    male_age_ratiomax_agegrp_3[i] = age_grp[male_age_ratio_3[i].index(male_age_ratiomax_3[i])]\r\n",
    "    male_age_ratiomax_agegrp_2[i] = age_grp[male_age_ratio_2[i].index(male_age_ratiomax_2[i])]\r\n",
    "    male_age_ratiomax_agegrp_1[i] = age_grp[male_age_ratio_1[i].index(male_age_ratiomax_1[i])]"
   ],
   "outputs": [],
   "metadata": {}
  },
  {
   "cell_type": "markdown",
   "source": [
    "### Changing back the age groups back to normal"
   ],
   "metadata": {}
  },
  {
   "cell_type": "code",
   "execution_count": null,
   "source": [
    "for i in range(len(male_age_ratiomax_agegrp_3)):\r\n",
    "    if male_age_ratiomax_agegrp_3[i] == '70-100+':\r\n",
    "        male_age_ratiomax_agegrp_3[i] = '70+'\r\n",
    "    if male_age_ratiomax_agegrp_3[i] == 'Age not stated-':\r\n",
    "        male_age_ratiomax_agegrp_3[i] = 'Age not stated'\r\n",
    "    if male_age_ratiomax_agegrp_2[i] == '70-100+':\r\n",
    "        male_age_ratiomax_agegrp_2[i] = '70+'\r\n",
    "    if male_age_ratiomax_agegrp_2[i] == 'Age not stated-':\r\n",
    "        male_age_ratiomax_agegrp_2[i] = 'Age not stated'\r\n",
    "    if male_age_ratiomax_agegrp_1[i] == '70-100+':\r\n",
    "        male_age_ratiomax_agegrp_1[i] = '70+'\r\n",
    "    if male_age_ratiomax_agegrp_1[i] == 'Age not stated-':\r\n",
    "        male_age_ratiomax_agegrp_1[i] = 'Age not stated'"
   ],
   "outputs": [],
   "metadata": {}
  },
  {
   "cell_type": "markdown",
   "source": [
    "### Getting the maximum female ratio for each state/UT with the index for the age group which has this highest ratio"
   ],
   "metadata": {}
  },
  {
   "cell_type": "code",
   "execution_count": null,
   "source": [
    "female_age_ratiomax_3 = [0] * len(name_lst)\r\n",
    "female_age_ratiomax_2 = [0] * len(name_lst)\r\n",
    "female_age_ratiomax_1 = [0] * len(name_lst)\r\n",
    "female_age_ratiomax_agegrp_3 = [0] * len(name_lst)\r\n",
    "female_age_ratiomax_agegrp_2 = [0] * len(name_lst)\r\n",
    "female_age_ratiomax_agegrp_1 = [0] * len(name_lst)\r\n",
    "for i in range(len(name_lst)):\r\n",
    "    female_age_ratiomax_3[i] = max(female_age_ratio_3[i])\r\n",
    "    female_age_ratiomax_2[i] = max(female_age_ratio_2[i])\r\n",
    "    female_age_ratiomax_1[i] = max(female_age_ratio_1[i])\r\n",
    "    female_age_ratiomax_agegrp_3[i] = age_grp[female_age_ratio_3[i].index(female_age_ratiomax_3[i])]\r\n",
    "    female_age_ratiomax_agegrp_2[i] = age_grp[female_age_ratio_2[i].index(female_age_ratiomax_2[i])]\r\n",
    "    female_age_ratiomax_agegrp_1[i] = age_grp[female_age_ratio_1[i].index(female_age_ratiomax_1[i])]"
   ],
   "outputs": [],
   "metadata": {}
  },
  {
   "cell_type": "markdown",
   "source": [
    "### Changing back the age groups back to normal"
   ],
   "metadata": {}
  },
  {
   "cell_type": "code",
   "execution_count": null,
   "source": [
    "for i in range(len(female_age_ratiomax_agegrp_3)):\r\n",
    "    if female_age_ratiomax_agegrp_3[i] == '70-100+':\r\n",
    "        female_age_ratiomax_agegrp_3[i] = '70+'\r\n",
    "    if female_age_ratiomax_agegrp_3[i] == 'Age not stated-':\r\n",
    "        female_age_ratiomax_agegrp_3[i] = 'Age not stated'\r\n",
    "    if female_age_ratiomax_agegrp_2[i] == '70-100+':\r\n",
    "        female_age_ratiomax_agegrp_2[i] = '70+'\r\n",
    "    if female_age_ratiomax_agegrp_2[i] == 'Age not stated-':\r\n",
    "        female_age_ratiomax_agegrp_2[i] = 'Age not stated'\r\n",
    "    if female_age_ratiomax_agegrp_1[i] == '70-100+':\r\n",
    "        female_age_ratiomax_agegrp_1[i] = '70+'\r\n",
    "    if female_age_ratiomax_agegrp_1[i] == 'Age not stated-':\r\n",
    "        female_age_ratiomax_agegrp_1[i] = 'Age not stated'"
   ],
   "outputs": [],
   "metadata": {}
  },
  {
   "cell_type": "markdown",
   "source": [
    "### Getting the codes of the states"
   ],
   "metadata": {}
  },
  {
   "cell_type": "code",
   "execution_count": null,
   "source": [
    "state_code = [0] * len(name_lst)\r\n",
    "for i in range(len(name_lst)):\r\n",
    "    state_code[i] = data['C-18 POPULATION BY BILINGUALISM, TRILINGUALISM, AGE AND SEX'][list(data['Unnamed: 2']).index(name_lst[i])]"
   ],
   "outputs": [],
   "metadata": {}
  },
  {
   "cell_type": "markdown",
   "source": [
    "### Exporting the state codes, state names into dataframes"
   ],
   "metadata": {}
  },
  {
   "cell_type": "code",
   "execution_count": null,
   "source": [
    "data_final = {'state-code': state_code, 'state/ut': name_lst,'age-group-males': male_age_ratiomax_agegrp_3,'ratio-males': male_age_ratiomax_3,'age-group-females': female_age_ratiomax_agegrp_3,'ratio-females': female_age_ratiomax_3,}\r\n",
    "age_gender_3 = pd.DataFrame(data_final)\r\n",
    "data_final = {'state-code': state_code, 'state/ut': name_lst,'age-group-males': male_age_ratiomax_agegrp_2,'ratio-males': male_age_ratiomax_2,'age-group-females': female_age_ratiomax_agegrp_2,'ratio-females': female_age_ratiomax_2}\r\n",
    "age_gender_2 = pd.DataFrame(data_final)\r\n",
    "data_final = {'state-code': state_code, 'state/ut': name_lst,'age-group-males': male_age_ratiomax_agegrp_1,'ratio-males': male_age_ratiomax_1,'age-group-females': female_age_ratiomax_agegrp_1,'ratio-females': female_age_ratiomax_1}\r\n",
    "age_gender_1 = pd.DataFrame(data_final)"
   ],
   "outputs": [],
   "metadata": {}
  },
  {
   "cell_type": "markdown",
   "source": [
    "### Exporting dataframes to 'age-gender-{part}.csv'"
   ],
   "metadata": {}
  },
  {
   "cell_type": "code",
   "execution_count": null,
   "source": [
    "age_gender_3.to_csv('OUTPUT/age-gender-a.csv',index=False)\r\n",
    "age_gender_2.to_csv('OUTPUT/age-gender-b.csv',index=False)\r\n",
    "age_gender_1.to_csv('OUTPUT/age-gender-c.csv',index=False)"
   ],
   "outputs": [],
   "metadata": {}
  }
 ],
 "metadata": {
  "orig_nbformat": 4,
  "language_info": {
   "name": "python",
   "version": "3.7.3",
   "mimetype": "text/x-python",
   "codemirror_mode": {
    "name": "ipython",
    "version": 3
   },
   "pygments_lexer": "ipython3",
   "nbconvert_exporter": "python",
   "file_extension": ".py"
  },
  "kernelspec": {
   "name": "python3",
   "display_name": "Python 3.7.3 64-bit"
  },
  "interpreter": {
   "hash": "c80d797ad0c0f99ceecb07d53ac314bc1d62fa8729ade7f8a491ed15ddf8184a"
  }
 },
 "nbformat": 4,
 "nbformat_minor": 2
}