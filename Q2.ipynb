{
 "cells": [
  {
   "cell_type": "markdown",
   "source": [
    "## Importing 'DDW-C18-0000.XLSX'(Language Data)  and 'DDW_PCA0000_2011_Indiastatedist.xlsx'(Census Data) file using pandas"
   ],
   "metadata": {}
  },
  {
   "cell_type": "code",
   "execution_count": 1,
   "source": [
    "import pandas as pd\r\n",
    "data = pd.read_excel('INPUT/DDW-C18-0000.XLSX')\r\n",
    "census_data = pd.read_excel('INPUT/DDW_PCA0000_2011_Indiastatedist.xlsx')"
   ],
   "outputs": [],
   "metadata": {}
  },
  {
   "cell_type": "markdown",
   "source": [
    "### Getting the index of rows containing state data for getting the total population of each state from census data"
   ],
   "metadata": {}
  },
  {
   "cell_type": "code",
   "execution_count": 2,
   "source": [
    "index = []\r\n",
    "for i in range(len(census_data)):\r\n",
    "    if census_data['Level'][i] == 'STATE':\r\n",
    "        index.append(i)\r\n",
    "for i in range(0,len(index),3):\r\n",
    "    index[int(i/3)] = index[i]\r\n",
    "index = index[:35]\r\n",
    "index.insert(0,0)\r\n",
    "index"
   ],
   "outputs": [
    {
     "output_type": "execute_result",
     "data": {
      "text/plain": [
       "[0,\n",
       " 3,\n",
       " 72,\n",
       " 111,\n",
       " 174,\n",
       " 180,\n",
       " 222,\n",
       " 288,\n",
       " 318,\n",
       " 420,\n",
       " 636,\n",
       " 753,\n",
       " 768,\n",
       " 819,\n",
       " 855,\n",
       " 885,\n",
       " 912,\n",
       " 927,\n",
       " 951,\n",
       " 1035,\n",
       " 1095,\n",
       " 1170,\n",
       " 1263,\n",
       " 1320,\n",
       " 1473,\n",
       " 1554,\n",
       " 1563,\n",
       " 1569,\n",
       " 1677,\n",
       " 1749,\n",
       " 1842,\n",
       " 1851,\n",
       " 1857,\n",
       " 1902,\n",
       " 2001,\n",
       " 2016]"
      ]
     },
     "metadata": {},
     "execution_count": 2
    }
   ],
   "metadata": {}
  },
  {
   "cell_type": "markdown",
   "source": [
    "### Getting the names of states from census data and language data and checking if they both have the same states with same sequence"
   ],
   "metadata": {}
  },
  {
   "cell_type": "code",
   "execution_count": 3,
   "source": [
    "state_census = [0]*(len(index))\r\n",
    "for i in range(len(index)):\r\n",
    "    state_census[i] = census_data['Name'][index[i]]\r\n",
    "state_census[0] = 'INDIA'\r\n",
    "state_lang = data['Unnamed: 2'][6:].unique()\r\n",
    "yes = 0\r\n",
    "for i in range(len(state_census)):\r\n",
    "    if state_census[i] == state_lang[i]:\r\n",
    "        yes = yes+1\r\n",
    "print(yes)"
   ],
   "outputs": [
    {
     "output_type": "stream",
     "name": "stdout",
     "text": [
      "36\n"
     ]
    }
   ],
   "metadata": {}
  },
  {
   "cell_type": "markdown",
   "source": [
    "### Since the states list from both census and language data are same we can directly corresponding the states list of both data\r\n",
    "### Getting the total population for each state from census data for males and females seperately"
   ],
   "metadata": {}
  },
  {
   "cell_type": "code",
   "execution_count": 4,
   "source": [
    "state_pop_male = [0]*len(index)\r\n",
    "state_pop_female = [0]*len(index)\r\n",
    "for i in range(len(index)):\r\n",
    "    state_pop_male[i] = census_data['TOT_M'][index[i]]\r\n",
    "    state_pop_female[i] = census_data['TOT_F'][index[i]]"
   ],
   "outputs": [],
   "metadata": {}
  },
  {
   "cell_type": "markdown",
   "source": [
    "### For Males and Females seperately:\r\n",
    "### Getting the 'Number speaking second language' and 'Number speaking third language' from language data\r\n",
    "### People speaking 3 or more languages is given directly in the data"
   ],
   "metadata": {}
  },
  {
   "cell_type": "code",
   "execution_count": 5,
   "source": [
    "state_2lang_male = [0] * len(index)\r\n",
    "state_2lang_female = [0] * len(index)\r\n",
    "state_threelang_male = [0] * len(index)\r\n",
    "state_threelang_female = [0] * len(index)\r\n",
    "for i in range(len(index)):\r\n",
    "    state_2lang_male[i] = data['Unnamed: 6'][list(data['Unnamed: 2']).index(state_census[i])]\r\n",
    "    state_2lang_female[i] = data['Unnamed: 7'][list(data['Unnamed: 2']).index(state_census[i])]\r\n",
    "    state_threelang_male[i] = data['Unnamed: 9'][list(data['Unnamed: 2']).index(state_census[i])]\r\n",
    "    state_threelang_female[i] = data['Unnamed: 10'][list(data['Unnamed: 2']).index(state_census[i])]"
   ],
   "outputs": [],
   "metadata": {}
  },
  {
   "cell_type": "markdown",
   "source": [
    "### For Males and Females seperately:\r\n",
    "### Getting the counts of people speaking only one language, exactly two languages and three languages or more for each state.\r\n",
    "### People speaking only 1 language = Total Population - People speaking 2 or more language\r\n",
    "### People speaking exactly 2 languages = People speaking 2 or more language - People speaking 3 or more language"
   ],
   "metadata": {}
  },
  {
   "cell_type": "code",
   "execution_count": 6,
   "source": [
    "state_onelang_male = [0] * len(index)\r\n",
    "state_onelang_female = [0] * len(index)\r\n",
    "state_twolang_male = [0] * len(index)\r\n",
    "state_twolang_female = [0] * len(index)\r\n",
    "for i in range(len(index)):\r\n",
    "    state_onelang_male[i] = state_pop_male[i] - state_2lang_male[i]\r\n",
    "    state_onelang_female[i] = state_pop_female[i] - state_2lang_female[i]\r\n",
    "    state_twolang_male[i] = state_2lang_male[i] - state_threelang_male[i]\r\n",
    "    state_twolang_female[i] = state_2lang_female[i] - state_threelang_female[i]"
   ],
   "outputs": [],
   "metadata": {}
  },
  {
   "cell_type": "markdown",
   "source": [
    "### Getting the percentage of Male and Female population speaking only one language, exactly two languages and three languages"
   ],
   "metadata": {}
  },
  {
   "cell_type": "code",
   "execution_count": 7,
   "source": [
    "state_onelang_percent_male = [0]*len(index)\r\n",
    "state_onelang_percent_female = [0]*len(index)\r\n",
    "state_twolang_percent_male = [0]*len(index)\r\n",
    "state_twolang_percent_female = [0]*len(index)\r\n",
    "state_threelang_percent_male = [0]*len(index)\r\n",
    "state_threelang_percent_female = [0]*len(index)\r\n",
    "for i in range(len(index)):\r\n",
    "    state_onelang_percent_male[i] = (state_onelang_male[i] * 100)/state_pop_male[i]\r\n",
    "    state_onelang_percent_female[i] = (state_onelang_female[i] * 100)/state_pop_female[i]\r\n",
    "    state_twolang_percent_male[i] = (state_twolang_male[i] * 100)/state_pop_male[i]\r\n",
    "    state_twolang_percent_female[i] = (state_twolang_female[i] * 100)/state_pop_female[i]\r\n",
    "    state_threelang_percent_male[i] = (state_threelang_male[i] * 100)/state_pop_male[i]\r\n",
    "    state_threelang_percent_female[i] = (state_threelang_female[i] * 100)/state_pop_female[i]"
   ],
   "outputs": [],
   "metadata": {}
  },
  {
   "cell_type": "markdown",
   "source": [
    "### Getting the codes of the states"
   ],
   "metadata": {}
  },
  {
   "cell_type": "code",
   "execution_count": 8,
   "source": [
    "state_code = [0] * len(index)\r\n",
    "for i in range(len(index)):\r\n",
    "    state_code[i] = data['C-18 POPULATION BY BILINGUALISM, TRILINGUALISM, AGE AND SEX'][list(data['Unnamed: 2']).index(state_census[i])]"
   ],
   "outputs": [],
   "metadata": {}
  },
  {
   "cell_type": "markdown",
   "source": [
    "### Importing ttest_1samp from scipy.stats module to do statistical test and get P-VALUE"
   ],
   "metadata": {}
  },
  {
   "cell_type": "code",
   "execution_count": 9,
   "source": [
    "from scipy.stats import ttest_1samp"
   ],
   "outputs": [],
   "metadata": {}
  },
  {
   "cell_type": "markdown",
   "source": [
    "### Getting P-VALUE"
   ],
   "metadata": {}
  },
  {
   "cell_type": "code",
   "execution_count": 10,
   "source": [
    "ratio_pop = [0]*len(state_pop_male)\r\n",
    "ratio_1 = [0]*len(state_pop_male)\r\n",
    "ratio_2 = [0]*len(state_pop_male)\r\n",
    "ratio_3 = [0]*len(state_pop_male)\r\n",
    "p_val = [0]*len(state_pop_male)\r\n",
    "for i in range(len(state_pop_male)):\r\n",
    "    ratio_pop[i] = state_pop_male[i] / state_pop_female[i]\r\n",
    "    ratio_1[i] = state_onelang_male[i] / state_onelang_female[i]\r\n",
    "    ratio_2[i] = state_twolang_male[i] / state_twolang_female[i]\r\n",
    "    ratio_3[i] = state_threelang_male[i] / state_threelang_female[i]\r\n",
    "    p_val[i] = ttest_1samp([ratio_1[i],ratio_2[i],ratio_3[i]], ratio_pop[i], axis = 0)[1]"
   ],
   "outputs": [],
   "metadata": {}
  },
  {
   "cell_type": "markdown",
   "source": [
    "### Exporting state codes, male percentage, female percentage and p value to dataframes for one language, two languages and three languages"
   ],
   "metadata": {}
  },
  {
   "cell_type": "code",
   "execution_count": 11,
   "source": [
    "data_final = {'state-code':state_code,'male-percentage':state_onelang_percent_male,'female-percentage':state_onelang_percent_female,'p-value':p_val}\r\n",
    "gender_india_a = pd.DataFrame(data_final)\r\n",
    "data_final = {'state-code':state_code,'male-percentage':state_twolang_percent_male,'female-percentage':state_twolang_percent_female,'p-value':p_val}\r\n",
    "gender_india_b = pd.DataFrame(data_final)\r\n",
    "data_final = {'state-code':state_code,'male-percentage':state_threelang_percent_male,'female-percentage':state_threelang_percent_female,'p-value':p_val}\r\n",
    "gender_india_c = pd.DataFrame(data_final)"
   ],
   "outputs": [],
   "metadata": {}
  },
  {
   "cell_type": "markdown",
   "source": [
    "### Exporting dataframes to 'gender-india-{part}.csv'"
   ],
   "metadata": {}
  },
  {
   "cell_type": "code",
   "execution_count": 12,
   "source": [
    "gender_india_a.to_csv('OUTPUT/gender-india-a.csv',index=False)\r\n",
    "gender_india_b.to_csv('OUTPUT/gender-india-b.csv',index=False)\r\n",
    "gender_india_c.to_csv('OUTPUT/gender-india-c.csv',index=False)"
   ],
   "outputs": [],
   "metadata": {}
  }
 ],
 "metadata": {
  "orig_nbformat": 4,
  "language_info": {
   "name": "python",
   "version": "3.7.3",
   "mimetype": "text/x-python",
   "codemirror_mode": {
    "name": "ipython",
    "version": 3
   },
   "pygments_lexer": "ipython3",
   "nbconvert_exporter": "python",
   "file_extension": ".py"
  },
  "kernelspec": {
   "name": "python3",
   "display_name": "Python 3.7.3 64-bit"
  },
  "interpreter": {
   "hash": "c80d797ad0c0f99ceecb07d53ac314bc1d62fa8729ade7f8a491ed15ddf8184a"
  }
 },
 "nbformat": 4,
 "nbformat_minor": 2
}